{
 "cells": [
  {
   "cell_type": "markdown",
   "id": "e6ed2b55",
   "metadata": {},
   "source": [
    "#### ShumetieTefera_HeartDisease_prediction\n"
   ]
  },
  {
   "cell_type": "markdown",
   "id": "1cf2fb24",
   "metadata": {},
   "source": [
    "## <font color=blue>Project Description</font>\n",
    "> Machine learning may be used to diagnose, detect, and forecast many disorders in the medical industry.It can play an essential role in predicting presence/absence of Heart diseases and more. Such information, if predicted well in advance, can provide important intuitions.\n",
    "\n",
    "> Heart disease or Cardiovascular disease is the leading cause of death irrespective of gender,age, racial/ethnic groups. It describes a range of conditions that affect the heart. There are many key factors which warns that the person may/may not getting chance of heart disease.The primary purpose of this Project is predicting possible Heart Diseases in people using Machine Learning algorithms.\n",
    "\n",
    "> In this notebook, we will use the heart disease dataset to build a model that predict whether someone is going to have heart disease or not depending on some attributes. We wiill try to build models using different classification algorithms\n",
    ". After building each model, we will evalueate them and compare which models performe best for our case. We will then try to optimze our model by tuning the hyperparamters of the model by using GridSearchCV. Lastly, we will save the prediction result from our dataset and then save our model for reussability.\n",
    " \n",
    "> #### Algorithms to be used and compared\n",
    "        - Logistic Regression (LR)\n",
    "        - Support Vector Classifier (SVC)\n",
    "        - K-Nearest Neighbor (KNN)\n",
    "        - Naive Bayes (NB)\n",
    "        - Random Forest Classifier (RF)\n",
    "        - XGBoosting Classifier (XGB)"
   ]
  },
  {
   "cell_type": "markdown",
   "id": "b6bdb92d",
   "metadata": {},
   "source": [
    "## <font color=blue>Objective:</font>\n",
    "The primary Goal of this project is to do classification(<font color=red> Diseased </font> or <font color=green> Not Diseased </font>) based on the data using different classification algorithms and choose the best model with highest accuracy."
   ]
  },
  {
   "cell_type": "markdown",
   "id": "a5ca0cf6",
   "metadata": {},
   "source": [
    "## <font color=blue>Import Required Libraries</font>"
   ]
  },
  {
   "cell_type": "code",
   "execution_count": 1,
   "id": "389fdc28",
   "metadata": {},
   "outputs": [],
   "source": [
    "import os\n",
    "import pandas as pd\n",
    "import numpy as np\n",
    "import matplotlib.pyplot as plt\n",
    "%matplotlib inline\n",
    "import seaborn as sns\n",
    "from sklearn.preprocessing import StandardScaler\n",
    "from sklearn.model_selection import train_test_split, GridSearchCV\n",
    "from sklearn.linear_model import LogisticRegression\n",
    "from sklearn.svm import SVC\n",
    "from sklearn.ensemble import RandomForestClassifier\n",
    "from sklearn.neighbors import KNeighborsClassifier\n",
    "from sklearn.naive_bayes import GaussianNB\n",
    "from sklearn.model_selection import GridSearchCV\n",
    "from sklearn.metrics import accuracy_score, confusion_matrix\n",
    "from sklearn.decomposition import PCA\n",
    "import warnings\n",
    "warnings.filterwarnings(\"ignore\")\n"
   ]
  },
  {
   "cell_type": "markdown",
   "id": "af724f0f",
   "metadata": {},
   "source": [
    "## <font color=blue>Load Dataset</font>"
   ]
  },
  {
   "cell_type": "code",
   "execution_count": 2,
   "id": "bae2ac54",
   "metadata": {},
   "outputs": [],
   "source": [
    "df= pd.read_csv('heart.csv')"
   ]
  },
  {
   "cell_type": "code",
   "execution_count": 3,
   "id": "d3db62d2",
   "metadata": {},
   "outputs": [
    {
     "data": {
      "text/html": [
       "<div>\n",
       "<style scoped>\n",
       "    .dataframe tbody tr th:only-of-type {\n",
       "        vertical-align: middle;\n",
       "    }\n",
       "\n",
       "    .dataframe tbody tr th {\n",
       "        vertical-align: top;\n",
       "    }\n",
       "\n",
       "    .dataframe thead th {\n",
       "        text-align: right;\n",
       "    }\n",
       "</style>\n",
       "<table border=\"1\" class=\"dataframe\">\n",
       "  <thead>\n",
       "    <tr style=\"text-align: right;\">\n",
       "      <th></th>\n",
       "      <th>age</th>\n",
       "      <th>sex</th>\n",
       "      <th>cp</th>\n",
       "      <th>trtbps</th>\n",
       "      <th>chol</th>\n",
       "      <th>fbs</th>\n",
       "      <th>restecg</th>\n",
       "      <th>thalachh</th>\n",
       "      <th>exng</th>\n",
       "      <th>oldpeak</th>\n",
       "      <th>slp</th>\n",
       "      <th>caa</th>\n",
       "      <th>thall</th>\n",
       "      <th>output</th>\n",
       "    </tr>\n",
       "  </thead>\n",
       "  <tbody>\n",
       "    <tr>\n",
       "      <th>0</th>\n",
       "      <td>63</td>\n",
       "      <td>1</td>\n",
       "      <td>3</td>\n",
       "      <td>145</td>\n",
       "      <td>233</td>\n",
       "      <td>1</td>\n",
       "      <td>0</td>\n",
       "      <td>150</td>\n",
       "      <td>0</td>\n",
       "      <td>2.3</td>\n",
       "      <td>0</td>\n",
       "      <td>0</td>\n",
       "      <td>1</td>\n",
       "      <td>1</td>\n",
       "    </tr>\n",
       "    <tr>\n",
       "      <th>1</th>\n",
       "      <td>37</td>\n",
       "      <td>1</td>\n",
       "      <td>2</td>\n",
       "      <td>130</td>\n",
       "      <td>250</td>\n",
       "      <td>0</td>\n",
       "      <td>1</td>\n",
       "      <td>187</td>\n",
       "      <td>0</td>\n",
       "      <td>3.5</td>\n",
       "      <td>0</td>\n",
       "      <td>0</td>\n",
       "      <td>2</td>\n",
       "      <td>1</td>\n",
       "    </tr>\n",
       "    <tr>\n",
       "      <th>2</th>\n",
       "      <td>41</td>\n",
       "      <td>0</td>\n",
       "      <td>1</td>\n",
       "      <td>130</td>\n",
       "      <td>204</td>\n",
       "      <td>0</td>\n",
       "      <td>0</td>\n",
       "      <td>172</td>\n",
       "      <td>0</td>\n",
       "      <td>1.4</td>\n",
       "      <td>2</td>\n",
       "      <td>0</td>\n",
       "      <td>2</td>\n",
       "      <td>1</td>\n",
       "    </tr>\n",
       "    <tr>\n",
       "      <th>3</th>\n",
       "      <td>56</td>\n",
       "      <td>1</td>\n",
       "      <td>1</td>\n",
       "      <td>120</td>\n",
       "      <td>236</td>\n",
       "      <td>0</td>\n",
       "      <td>1</td>\n",
       "      <td>178</td>\n",
       "      <td>0</td>\n",
       "      <td>0.8</td>\n",
       "      <td>2</td>\n",
       "      <td>0</td>\n",
       "      <td>2</td>\n",
       "      <td>1</td>\n",
       "    </tr>\n",
       "    <tr>\n",
       "      <th>4</th>\n",
       "      <td>57</td>\n",
       "      <td>0</td>\n",
       "      <td>0</td>\n",
       "      <td>120</td>\n",
       "      <td>354</td>\n",
       "      <td>0</td>\n",
       "      <td>1</td>\n",
       "      <td>163</td>\n",
       "      <td>1</td>\n",
       "      <td>0.6</td>\n",
       "      <td>2</td>\n",
       "      <td>0</td>\n",
       "      <td>2</td>\n",
       "      <td>1</td>\n",
       "    </tr>\n",
       "  </tbody>\n",
       "</table>\n",
       "</div>"
      ],
      "text/plain": [
       "   age  sex  cp  trtbps  chol  fbs  restecg  thalachh  exng  oldpeak  slp  \\\n",
       "0   63    1   3     145   233    1        0       150     0      2.3    0   \n",
       "1   37    1   2     130   250    0        1       187     0      3.5    0   \n",
       "2   41    0   1     130   204    0        0       172     0      1.4    2   \n",
       "3   56    1   1     120   236    0        1       178     0      0.8    2   \n",
       "4   57    0   0     120   354    0        1       163     1      0.6    2   \n",
       "\n",
       "   caa  thall  output  \n",
       "0    0      1       1  \n",
       "1    0      2       1  \n",
       "2    0      2       1  \n",
       "3    0      2       1  \n",
       "4    0      2       1  "
      ]
     },
     "execution_count": 3,
     "metadata": {},
     "output_type": "execute_result"
    }
   ],
   "source": [
    "# First few rows of data\n",
    "df.head()"
   ]
  },
  {
   "cell_type": "code",
   "execution_count": 4,
   "id": "67ed8788",
   "metadata": {},
   "outputs": [
    {
     "data": {
      "text/html": [
       "<div>\n",
       "<style scoped>\n",
       "    .dataframe tbody tr th:only-of-type {\n",
       "        vertical-align: middle;\n",
       "    }\n",
       "\n",
       "    .dataframe tbody tr th {\n",
       "        vertical-align: top;\n",
       "    }\n",
       "\n",
       "    .dataframe thead th {\n",
       "        text-align: right;\n",
       "    }\n",
       "</style>\n",
       "<table border=\"1\" class=\"dataframe\">\n",
       "  <thead>\n",
       "    <tr style=\"text-align: right;\">\n",
       "      <th></th>\n",
       "      <th>age</th>\n",
       "      <th>sex</th>\n",
       "      <th>cp</th>\n",
       "      <th>trtbps</th>\n",
       "      <th>chol</th>\n",
       "      <th>fbs</th>\n",
       "      <th>restecg</th>\n",
       "      <th>thalachh</th>\n",
       "      <th>exng</th>\n",
       "      <th>oldpeak</th>\n",
       "      <th>slp</th>\n",
       "      <th>caa</th>\n",
       "      <th>thall</th>\n",
       "      <th>output</th>\n",
       "    </tr>\n",
       "  </thead>\n",
       "  <tbody>\n",
       "    <tr>\n",
       "      <th>298</th>\n",
       "      <td>57</td>\n",
       "      <td>0</td>\n",
       "      <td>0</td>\n",
       "      <td>140</td>\n",
       "      <td>241</td>\n",
       "      <td>0</td>\n",
       "      <td>1</td>\n",
       "      <td>123</td>\n",
       "      <td>1</td>\n",
       "      <td>0.2</td>\n",
       "      <td>1</td>\n",
       "      <td>0</td>\n",
       "      <td>3</td>\n",
       "      <td>0</td>\n",
       "    </tr>\n",
       "    <tr>\n",
       "      <th>299</th>\n",
       "      <td>45</td>\n",
       "      <td>1</td>\n",
       "      <td>3</td>\n",
       "      <td>110</td>\n",
       "      <td>264</td>\n",
       "      <td>0</td>\n",
       "      <td>1</td>\n",
       "      <td>132</td>\n",
       "      <td>0</td>\n",
       "      <td>1.2</td>\n",
       "      <td>1</td>\n",
       "      <td>0</td>\n",
       "      <td>3</td>\n",
       "      <td>0</td>\n",
       "    </tr>\n",
       "    <tr>\n",
       "      <th>300</th>\n",
       "      <td>68</td>\n",
       "      <td>1</td>\n",
       "      <td>0</td>\n",
       "      <td>144</td>\n",
       "      <td>193</td>\n",
       "      <td>1</td>\n",
       "      <td>1</td>\n",
       "      <td>141</td>\n",
       "      <td>0</td>\n",
       "      <td>3.4</td>\n",
       "      <td>1</td>\n",
       "      <td>2</td>\n",
       "      <td>3</td>\n",
       "      <td>0</td>\n",
       "    </tr>\n",
       "    <tr>\n",
       "      <th>301</th>\n",
       "      <td>57</td>\n",
       "      <td>1</td>\n",
       "      <td>0</td>\n",
       "      <td>130</td>\n",
       "      <td>131</td>\n",
       "      <td>0</td>\n",
       "      <td>1</td>\n",
       "      <td>115</td>\n",
       "      <td>1</td>\n",
       "      <td>1.2</td>\n",
       "      <td>1</td>\n",
       "      <td>1</td>\n",
       "      <td>3</td>\n",
       "      <td>0</td>\n",
       "    </tr>\n",
       "    <tr>\n",
       "      <th>302</th>\n",
       "      <td>57</td>\n",
       "      <td>0</td>\n",
       "      <td>1</td>\n",
       "      <td>130</td>\n",
       "      <td>236</td>\n",
       "      <td>0</td>\n",
       "      <td>0</td>\n",
       "      <td>174</td>\n",
       "      <td>0</td>\n",
       "      <td>0.0</td>\n",
       "      <td>1</td>\n",
       "      <td>1</td>\n",
       "      <td>2</td>\n",
       "      <td>0</td>\n",
       "    </tr>\n",
       "  </tbody>\n",
       "</table>\n",
       "</div>"
      ],
      "text/plain": [
       "     age  sex  cp  trtbps  chol  fbs  restecg  thalachh  exng  oldpeak  slp  \\\n",
       "298   57    0   0     140   241    0        1       123     1      0.2    1   \n",
       "299   45    1   3     110   264    0        1       132     0      1.2    1   \n",
       "300   68    1   0     144   193    1        1       141     0      3.4    1   \n",
       "301   57    1   0     130   131    0        1       115     1      1.2    1   \n",
       "302   57    0   1     130   236    0        0       174     0      0.0    1   \n",
       "\n",
       "     caa  thall  output  \n",
       "298    0      3       0  \n",
       "299    0      3       0  \n",
       "300    2      3       0  \n",
       "301    1      3       0  \n",
       "302    1      2       0  "
      ]
     },
     "execution_count": 4,
     "metadata": {},
     "output_type": "execute_result"
    }
   ],
   "source": [
    "# last few rows of data\n",
    "df.tail()"
   ]
  },
  {
   "cell_type": "markdown",
   "id": "f9c96cda",
   "metadata": {},
   "source": [
    "## <font color=blue>Data Dictionary</font>"
   ]
  },
  {
   "cell_type": "markdown",
   "id": "4ee3a980",
   "metadata": {},
   "source": [
    "1. age : age of persons\n",
    "1. sex : gender of persons \n",
    "    * 1 = male\n",
    "    * 0 = female\n",
    "1. cp : chest pain type (4 values)\n",
    "    * 0= Typical angina\n",
    "    * 1= Atypical angina\n",
    "    * 2= Non-anginal pain\n",
    "    * 3= Asymptomatic\n",
    "1. trtbps : resting blood pressure\n",
    "1. chol : serum cholestrol in mg/dl\n",
    "1. fbs : fasting blood sugar > 120 mg/dl\n",
    "    * 1 = true\n",
    "    * 0 = false\n",
    "1. restecg : resting electrocardio results(values 0,1,2)\n",
    "    * 0: normal, Value \n",
    "    * 1: having ST-T wave abnormality \n",
    "    * 2: showing probable or definite left ventricular hypertrophy\n",
    "1. thalach : maximum heart rate achieved\n",
    "1. exng : exercise induced angina\n",
    "    * 1 = yes\n",
    "    * 0 = no\n",
    "1. oldpeak : ST depression induced by exercise relative to rest   \n",
    "1. slp : the slope of the peak exercise ST segment\n",
    "    * 1= upsloping\n",
    "    * 2: flat\n",
    "    * 3: downsloping\n",
    "1. caa : number of major vessels(0-3) colored by flourosopy\n",
    "    * 0: No major vessels colored by fluoroscopy \n",
    "    * 1:One major vessel colored by fluoroscopy \n",
    "    * 2:Two major vessels colored by fluoroscopy \n",
    "    * 3:Three major vessels colored by fluoroscopy\n",
    "1. thall :  thalium stress result\n",
    "    * 0=normal\n",
    "    * 1=fixed defect\n",
    "    * 2 = reversable defect\n",
    "1. output : Target column\n",
    "    * 1 = Diseased\n",
    "    * 0 = Not Diseased"
   ]
  },
  {
   "cell_type": "markdown",
   "id": "3e4f33dd",
   "metadata": {},
   "source": [
    "## <font color=blue>Data Cleaning (Preprocessing) & Data Overview</font>"
   ]
  },
  {
   "cell_type": "markdown",
   "id": "1a23a90c",
   "metadata": {},
   "source": [
    "#### <font color=blue>Data overview</font>"
   ]
  },
  {
   "cell_type": "code",
   "execution_count": 5,
   "id": "bfb9cc9b",
   "metadata": {
    "scrolled": true
   },
   "outputs": [
    {
     "data": {
      "text/plain": [
       "(303, 14)"
      ]
     },
     "execution_count": 5,
     "metadata": {},
     "output_type": "execute_result"
    }
   ],
   "source": [
    "df.shape"
   ]
  },
  {
   "cell_type": "markdown",
   "id": "140aa07f",
   "metadata": {},
   "source": [
    "<div class=\"alert alert-block alert-info\">\n",
    "<b>INSIGHTS </b>&#9658\n",
    "<ul>\n",
    " <li>There are 303 rows and 14 columns in the dataset,\n",
    "          total of 13 features and 1 target variable</li>\n",
    " \n",
    " </ul>\n",
    "</div>"
   ]
  },
  {
   "cell_type": "markdown",
   "id": "d36af015",
   "metadata": {},
   "source": [
    "#### <font color=blue>Duplicates</font>"
   ]
  },
  {
   "cell_type": "code",
   "execution_count": 6,
   "id": "8f805ae8",
   "metadata": {},
   "outputs": [
    {
     "data": {
      "text/plain": [
       "1"
      ]
     },
     "execution_count": 6,
     "metadata": {},
     "output_type": "execute_result"
    }
   ],
   "source": [
    "# check for existence of duplicates in the dataset\n",
    "len(df[df.duplicated()])"
   ]
  },
  {
   "cell_type": "code",
   "execution_count": 7,
   "id": "3f65a019",
   "metadata": {},
   "outputs": [],
   "source": [
    "# Drop the duplicate data\n",
    "df = df.drop_duplicates()"
   ]
  },
  {
   "cell_type": "code",
   "execution_count": 8,
   "id": "6098ced7",
   "metadata": {},
   "outputs": [
    {
     "data": {
      "text/plain": [
       "(302, 14)"
      ]
     },
     "execution_count": 8,
     "metadata": {},
     "output_type": "execute_result"
    }
   ],
   "source": [
    "df.shape"
   ]
  },
  {
   "cell_type": "markdown",
   "id": "5f17aad0",
   "metadata": {},
   "source": [
    "<div class=\"alert alert-block alert-info\">\n",
    "<b>INSIGHTS </b>&#9658\n",
    "There are 302 rows and 14 columns in the dataset,\n",
    "          total of 13 features and 1 target variable\n",
    "</div>"
   ]
  },
  {
   "cell_type": "markdown",
   "id": "4eaffc3d",
   "metadata": {},
   "source": [
    "#### <font color=blue>Renaming Columns</font>\n",
    "The original column names are not very descriptive (are ambiguous). Changing the column names to something descriptive would make it easier to understand what the column represents."
   ]
  },
  {
   "cell_type": "code",
   "execution_count": 9,
   "id": "9ccfd736",
   "metadata": {
    "scrolled": false
   },
   "outputs": [
    {
     "data": {
      "text/plain": [
       "Index(['age', 'sex', 'cp', 'trtbps', 'chol', 'fbs', 'restecg', 'thalachh',\n",
       "       'exng', 'oldpeak', 'slp', 'caa', 'thall', 'output'],\n",
       "      dtype='object')"
      ]
     },
     "execution_count": 9,
     "metadata": {},
     "output_type": "execute_result"
    }
   ],
   "source": [
    "# Original column names\n",
    "df.columns"
   ]
  },
  {
   "cell_type": "code",
   "execution_count": 10,
   "id": "cca02946",
   "metadata": {},
   "outputs": [],
   "source": [
    "# Renaming column names\n",
    "new_names = {\n",
    "    \"age\": \"Age\",\n",
    "    \"sex\": \"Sex\",\n",
    "    \"cp\": \"Chest_Pain_Type\",\n",
    "    \"trtbps\": \"Resting_BP\",\n",
    "    \"chol\": \"Cholesterol\",\n",
    "    \"fbs\": \"Fasting_Blood_Sugar\",\n",
    "    \"restecg\": \"Resting_ECG\",\n",
    "    \"thalachh\": \"Max_Heart_Rate\",\n",
    "    \"exng\": \"Exercise_Induced_Angina\",\n",
    "    \"oldpeak\": \"ST_Depression\",\n",
    "    \"slp\": \"ST_Slope\",\n",
    "    \"caa\": \"Num_Major_Vessels\",\n",
    "    \"thall\": \"Thalassemia\",\n",
    "    \"output\": \"Target\"\n",
    "}\n",
    "df = df.rename(columns=new_names)"
   ]
  },
  {
   "cell_type": "code",
   "execution_count": 11,
   "id": "4f2e709a",
   "metadata": {
    "scrolled": true
   },
   "outputs": [
    {
     "data": {
      "text/html": [
       "<div>\n",
       "<style scoped>\n",
       "    .dataframe tbody tr th:only-of-type {\n",
       "        vertical-align: middle;\n",
       "    }\n",
       "\n",
       "    .dataframe tbody tr th {\n",
       "        vertical-align: top;\n",
       "    }\n",
       "\n",
       "    .dataframe thead th {\n",
       "        text-align: right;\n",
       "    }\n",
       "</style>\n",
       "<table border=\"1\" class=\"dataframe\">\n",
       "  <thead>\n",
       "    <tr style=\"text-align: right;\">\n",
       "      <th></th>\n",
       "      <th>Age</th>\n",
       "      <th>Sex</th>\n",
       "      <th>Chest_Pain_Type</th>\n",
       "      <th>Resting_BP</th>\n",
       "      <th>Cholesterol</th>\n",
       "      <th>Fasting_Blood_Sugar</th>\n",
       "      <th>Resting_ECG</th>\n",
       "      <th>Max_Heart_Rate</th>\n",
       "      <th>Exercise_Induced_Angina</th>\n",
       "      <th>ST_Depression</th>\n",
       "      <th>ST_Slope</th>\n",
       "      <th>Num_Major_Vessels</th>\n",
       "      <th>Thalassemia</th>\n",
       "      <th>Target</th>\n",
       "    </tr>\n",
       "  </thead>\n",
       "  <tbody>\n",
       "    <tr>\n",
       "      <th>0</th>\n",
       "      <td>63</td>\n",
       "      <td>1</td>\n",
       "      <td>3</td>\n",
       "      <td>145</td>\n",
       "      <td>233</td>\n",
       "      <td>1</td>\n",
       "      <td>0</td>\n",
       "      <td>150</td>\n",
       "      <td>0</td>\n",
       "      <td>2.3</td>\n",
       "      <td>0</td>\n",
       "      <td>0</td>\n",
       "      <td>1</td>\n",
       "      <td>1</td>\n",
       "    </tr>\n",
       "    <tr>\n",
       "      <th>1</th>\n",
       "      <td>37</td>\n",
       "      <td>1</td>\n",
       "      <td>2</td>\n",
       "      <td>130</td>\n",
       "      <td>250</td>\n",
       "      <td>0</td>\n",
       "      <td>1</td>\n",
       "      <td>187</td>\n",
       "      <td>0</td>\n",
       "      <td>3.5</td>\n",
       "      <td>0</td>\n",
       "      <td>0</td>\n",
       "      <td>2</td>\n",
       "      <td>1</td>\n",
       "    </tr>\n",
       "    <tr>\n",
       "      <th>2</th>\n",
       "      <td>41</td>\n",
       "      <td>0</td>\n",
       "      <td>1</td>\n",
       "      <td>130</td>\n",
       "      <td>204</td>\n",
       "      <td>0</td>\n",
       "      <td>0</td>\n",
       "      <td>172</td>\n",
       "      <td>0</td>\n",
       "      <td>1.4</td>\n",
       "      <td>2</td>\n",
       "      <td>0</td>\n",
       "      <td>2</td>\n",
       "      <td>1</td>\n",
       "    </tr>\n",
       "    <tr>\n",
       "      <th>3</th>\n",
       "      <td>56</td>\n",
       "      <td>1</td>\n",
       "      <td>1</td>\n",
       "      <td>120</td>\n",
       "      <td>236</td>\n",
       "      <td>0</td>\n",
       "      <td>1</td>\n",
       "      <td>178</td>\n",
       "      <td>0</td>\n",
       "      <td>0.8</td>\n",
       "      <td>2</td>\n",
       "      <td>0</td>\n",
       "      <td>2</td>\n",
       "      <td>1</td>\n",
       "    </tr>\n",
       "    <tr>\n",
       "      <th>4</th>\n",
       "      <td>57</td>\n",
       "      <td>0</td>\n",
       "      <td>0</td>\n",
       "      <td>120</td>\n",
       "      <td>354</td>\n",
       "      <td>0</td>\n",
       "      <td>1</td>\n",
       "      <td>163</td>\n",
       "      <td>1</td>\n",
       "      <td>0.6</td>\n",
       "      <td>2</td>\n",
       "      <td>0</td>\n",
       "      <td>2</td>\n",
       "      <td>1</td>\n",
       "    </tr>\n",
       "  </tbody>\n",
       "</table>\n",
       "</div>"
      ],
      "text/plain": [
       "   Age  Sex  Chest_Pain_Type  Resting_BP  Cholesterol  Fasting_Blood_Sugar  \\\n",
       "0   63    1                3         145          233                    1   \n",
       "1   37    1                2         130          250                    0   \n",
       "2   41    0                1         130          204                    0   \n",
       "3   56    1                1         120          236                    0   \n",
       "4   57    0                0         120          354                    0   \n",
       "\n",
       "   Resting_ECG  Max_Heart_Rate  Exercise_Induced_Angina  ST_Depression  \\\n",
       "0            0             150                        0            2.3   \n",
       "1            1             187                        0            3.5   \n",
       "2            0             172                        0            1.4   \n",
       "3            1             178                        0            0.8   \n",
       "4            1             163                        1            0.6   \n",
       "\n",
       "   ST_Slope  Num_Major_Vessels  Thalassemia  Target  \n",
       "0         0                  0            1       1  \n",
       "1         0                  0            2       1  \n",
       "2         2                  0            2       1  \n",
       "3         2                  0            2       1  \n",
       "4         2                  0            2       1  "
      ]
     },
     "execution_count": 11,
     "metadata": {},
     "output_type": "execute_result"
    }
   ],
   "source": [
    "df.head()"
   ]
  },
  {
   "cell_type": "markdown",
   "id": "7e630e41",
   "metadata": {},
   "source": [
    "#### <font color=blue>VAriable Types of columns</font>\n"
   ]
  },
  {
   "cell_type": "code",
   "execution_count": 12,
   "id": "0cd0034e",
   "metadata": {
    "scrolled": true
   },
   "outputs": [
    {
     "data": {
      "text/plain": [
       "Age                          int64\n",
       "Sex                          int64\n",
       "Chest_Pain_Type              int64\n",
       "Resting_BP                   int64\n",
       "Cholesterol                  int64\n",
       "Fasting_Blood_Sugar          int64\n",
       "Resting_ECG                  int64\n",
       "Max_Heart_Rate               int64\n",
       "Exercise_Induced_Angina      int64\n",
       "ST_Depression              float64\n",
       "ST_Slope                     int64\n",
       "Num_Major_Vessels            int64\n",
       "Thalassemia                  int64\n",
       "Target                       int64\n",
       "dtype: object"
      ]
     },
     "execution_count": 12,
     "metadata": {},
     "output_type": "execute_result"
    }
   ],
   "source": [
    "df.dtypes"
   ]
  },
  {
   "cell_type": "code",
   "execution_count": 13,
   "id": "de86f405",
   "metadata": {},
   "outputs": [
    {
     "data": {
      "text/plain": [
       "Age                         41\n",
       "Sex                          2\n",
       "Chest_Pain_Type              4\n",
       "Resting_BP                  49\n",
       "Cholesterol                152\n",
       "Fasting_Blood_Sugar          2\n",
       "Resting_ECG                  3\n",
       "Max_Heart_Rate              91\n",
       "Exercise_Induced_Angina      2\n",
       "ST_Depression               40\n",
       "ST_Slope                     3\n",
       "Num_Major_Vessels            5\n",
       "Thalassemia                  4\n",
       "Target                       2\n",
       "dtype: int64"
      ]
     },
     "execution_count": 13,
     "metadata": {},
     "output_type": "execute_result"
    }
   ],
   "source": [
    "df.nunique()"
   ]
  },
  {
   "cell_type": "code",
   "execution_count": 14,
   "id": "acd21e28",
   "metadata": {
    "scrolled": false
   },
   "outputs": [
    {
     "data": {
      "text/plain": [
       "array([0, 2, 1, 3, 4], dtype=int64)"
      ]
     },
     "execution_count": 14,
     "metadata": {},
     "output_type": "execute_result"
    }
   ],
   "source": [
    "df['Num_Major_Vessels'].unique()"
   ]
  },
  {
   "cell_type": "code",
   "execution_count": 15,
   "id": "e9e4301f",
   "metadata": {},
   "outputs": [
    {
     "data": {
      "text/plain": [
       "0    175\n",
       "1     65\n",
       "2     38\n",
       "3     20\n",
       "4      4\n",
       "Name: Num_Major_Vessels, dtype: int64"
      ]
     },
     "execution_count": 15,
     "metadata": {},
     "output_type": "execute_result"
    }
   ],
   "source": [
    "df.Num_Major_Vessels.value_counts()"
   ]
  },
  {
   "cell_type": "markdown",
   "id": "e6fcca01",
   "metadata": {},
   "source": [
    "---"
   ]
  },
  {
   "cell_type": "markdown",
   "id": "33994c57",
   "metadata": {},
   "source": [
    "Actualy some columns need to be categorical and some numerical\n",
    " - Continuous — Age, Resting_BP, Cholestrol, Max_Heart_Rate, ST_Depression\n",
    " - Categorical — Sex, Chest_Pain, Fasting_Blood_Sugar, Resting_ECG, Exercise_Induced_Angina, ST_Slope , Num_Major_Vessels, Thalassemia, Target\n"
   ]
  },
  {
   "cell_type": "code",
   "execution_count": 16,
   "id": "ad2a78e1",
   "metadata": {},
   "outputs": [],
   "source": [
    "# converting some features to categorical features \n",
    "# Sex\n",
    "df[\"Sex\"] = df.Sex.apply(lambda  x:'1' if x==1 else '0')\n",
    "# Chest_Pain_Type\n",
    "df['Chest_Pain_Type'][df['Chest_Pain_Type'] == 1] = '1'\n",
    "df['Chest_Pain_Type'][df['Chest_Pain_Type'] == 2] = '2'\n",
    "df['Chest_Pain_Type'][df['Chest_Pain_Type'] == 3] = '3'\n",
    "df['Chest_Pain_Type'][df['Chest_Pain_Type'] == 4] = '4'\n",
    "#Fasting_Blood_Sugar\n",
    "df[\"Fasting_Blood_Sugar\"] = df.Fasting_Blood_Sugar.apply(lambda  a:'1' if a==1 else '0')\n",
    "# Resting_ECG\n",
    "df['Resting_ECG'][df['Resting_ECG'] == 0] = '0'\n",
    "df['Resting_ECG'][df['Resting_ECG'] == 1] = '1'\n",
    "df['Resting_ECG'][df['Resting_ECG'] == 2] = '2'\n",
    "# ST_Slope\n",
    "df['ST_Slope'][df['ST_Slope'] == 1] = '1'\n",
    "df['ST_Slope'][df['ST_Slope'] == 2] = '2'\n",
    "df['ST_Slope'][df['ST_Slope'] == 3] = '3'\n",
    "# Exercise_Induced_Angina\n",
    "df[\"Exercise_Induced_Angina\"] = df.Exercise_Induced_Angina.apply(lambda  x:'1' if x==1 else '0')\n",
    "# Num_Major_Vessels\n",
    "df['Num_Major_Vessels'][df['Num_Major_Vessels'] == 0] = '0'\n",
    "df['Num_Major_Vessels'][df['Num_Major_Vessels'] == 1] = '1'\n",
    "df['Num_Major_Vessels'][df['Num_Major_Vessels'] == 2] = '2'\n",
    "df['Num_Major_Vessels'][df['Num_Major_Vessels'] == 3] = '3'\n",
    "\n",
    "# Thalassemia\n",
    "df['Thalassemia'][df['Thalassemia'] == 0] = '0'\n",
    "df['Thalassemia'][df['Thalassemia'] == 1] = '1'\n",
    "df['Thalassemia'][df['Thalassemia'] == 2] = '2'"
   ]
  },
  {
   "cell_type": "code",
   "execution_count": 17,
   "id": "2493e971",
   "metadata": {},
   "outputs": [
    {
     "name": "stdout",
     "output_type": "stream",
     "text": [
      "<class 'pandas.core.frame.DataFrame'>\n",
      "Int64Index: 302 entries, 0 to 302\n",
      "Data columns (total 14 columns):\n",
      " #   Column                   Non-Null Count  Dtype  \n",
      "---  ------                   --------------  -----  \n",
      " 0   Age                      302 non-null    int64  \n",
      " 1   Sex                      302 non-null    object \n",
      " 2   Chest_Pain_Type          302 non-null    object \n",
      " 3   Resting_BP               302 non-null    int64  \n",
      " 4   Cholesterol              302 non-null    int64  \n",
      " 5   Fasting_Blood_Sugar      302 non-null    object \n",
      " 6   Resting_ECG              302 non-null    object \n",
      " 7   Max_Heart_Rate           302 non-null    int64  \n",
      " 8   Exercise_Induced_Angina  302 non-null    object \n",
      " 9   ST_Depression            302 non-null    float64\n",
      " 10  ST_Slope                 302 non-null    object \n",
      " 11  Num_Major_Vessels        302 non-null    object \n",
      " 12  Thalassemia              302 non-null    object \n",
      " 13  Target                   302 non-null    int64  \n",
      "dtypes: float64(1), int64(5), object(8)\n",
      "memory usage: 35.4+ KB\n"
     ]
    }
   ],
   "source": [
    "df.info()"
   ]
  },
  {
   "cell_type": "code",
   "execution_count": 18,
   "id": "b5414a99",
   "metadata": {},
   "outputs": [],
   "source": [
    "# Select only numerical features\n",
    "num_columns = (df.select_dtypes(include=['int64', 'float64'])).columns\n",
    "\n",
    "# Select only categorical features\n",
    "cat_features =(df.select_dtypes(include=['object'])).columns"
   ]
  },
  {
   "cell_type": "code",
   "execution_count": 19,
   "id": "10e89a77",
   "metadata": {},
   "outputs": [
    {
     "data": {
      "text/plain": [
       "Index(['Age', 'Resting_BP', 'Cholesterol', 'Max_Heart_Rate', 'ST_Depression',\n",
       "       'Target'],\n",
       "      dtype='object')"
      ]
     },
     "execution_count": 19,
     "metadata": {},
     "output_type": "execute_result"
    }
   ],
   "source": [
    "num_columns"
   ]
  },
  {
   "cell_type": "code",
   "execution_count": 20,
   "id": "94c68636",
   "metadata": {},
   "outputs": [],
   "source": [
    "# drop the Target variable from numerical columns\n",
    "num_features= num_columns.drop('Target')"
   ]
  },
  {
   "cell_type": "code",
   "execution_count": 21,
   "id": "e1a55cec",
   "metadata": {},
   "outputs": [
    {
     "data": {
      "text/plain": [
       "Index(['Age', 'Resting_BP', 'Cholesterol', 'Max_Heart_Rate', 'ST_Depression'], dtype='object')"
      ]
     },
     "execution_count": 21,
     "metadata": {},
     "output_type": "execute_result"
    }
   ],
   "source": [
    "num_features"
   ]
  },
  {
   "cell_type": "markdown",
   "id": "62263ec2",
   "metadata": {},
   "source": [
    "#### <font color=blue>data characters mistakes</font>"
   ]
  },
  {
   "cell_type": "code",
   "execution_count": 22,
   "id": "27fb7b1f",
   "metadata": {},
   "outputs": [
    {
     "data": {
      "text/plain": [
       "Sex                        2\n",
       "Chest_Pain_Type            4\n",
       "Fasting_Blood_Sugar        2\n",
       "Resting_ECG                3\n",
       "Exercise_Induced_Angina    2\n",
       "ST_Slope                   3\n",
       "Num_Major_Vessels          5\n",
       "Thalassemia                4\n",
       "dtype: int64"
      ]
     },
     "execution_count": 22,
     "metadata": {},
     "output_type": "execute_result"
    }
   ],
   "source": [
    "df[cat_features].nunique()"
   ]
  },
  {
   "cell_type": "markdown",
   "id": "5a4ded45",
   "metadata": {},
   "source": [
    "<div class=\"alert alert-block alert-info\">\n",
    "<b>INSIGHTS </b>&#9658\n",
    "* The 'Num_Major_Vessels' column has only 4 (0-3) different values but here it shows 5\n",
    "</div>"
   ]
  },
  {
   "cell_type": "code",
   "execution_count": 23,
   "id": "f4570308",
   "metadata": {},
   "outputs": [
    {
     "data": {
      "text/plain": [
       "0    175\n",
       "1     65\n",
       "2     38\n",
       "3     20\n",
       "4      4\n",
       "Name: Num_Major_Vessels, dtype: int64"
      ]
     },
     "execution_count": 23,
     "metadata": {},
     "output_type": "execute_result"
    }
   ],
   "source": [
    "df.Num_Major_Vessels.value_counts()"
   ]
  },
  {
   "cell_type": "code",
   "execution_count": 24,
   "id": "098932a8",
   "metadata": {},
   "outputs": [
    {
     "data": {
      "text/html": [
       "<div>\n",
       "<style scoped>\n",
       "    .dataframe tbody tr th:only-of-type {\n",
       "        vertical-align: middle;\n",
       "    }\n",
       "\n",
       "    .dataframe tbody tr th {\n",
       "        vertical-align: top;\n",
       "    }\n",
       "\n",
       "    .dataframe thead th {\n",
       "        text-align: right;\n",
       "    }\n",
       "</style>\n",
       "<table border=\"1\" class=\"dataframe\">\n",
       "  <thead>\n",
       "    <tr style=\"text-align: right;\">\n",
       "      <th></th>\n",
       "      <th>Age</th>\n",
       "      <th>Sex</th>\n",
       "      <th>Chest_Pain_Type</th>\n",
       "      <th>Resting_BP</th>\n",
       "      <th>Cholesterol</th>\n",
       "      <th>Fasting_Blood_Sugar</th>\n",
       "      <th>Resting_ECG</th>\n",
       "      <th>Max_Heart_Rate</th>\n",
       "      <th>Exercise_Induced_Angina</th>\n",
       "      <th>ST_Depression</th>\n",
       "      <th>ST_Slope</th>\n",
       "      <th>Num_Major_Vessels</th>\n",
       "      <th>Thalassemia</th>\n",
       "      <th>Target</th>\n",
       "    </tr>\n",
       "  </thead>\n",
       "  <tbody>\n",
       "    <tr>\n",
       "      <th>92</th>\n",
       "      <td>52</td>\n",
       "      <td>1</td>\n",
       "      <td>2</td>\n",
       "      <td>138</td>\n",
       "      <td>223</td>\n",
       "      <td>0</td>\n",
       "      <td>1</td>\n",
       "      <td>169</td>\n",
       "      <td>0</td>\n",
       "      <td>0.0</td>\n",
       "      <td>2</td>\n",
       "      <td>4</td>\n",
       "      <td>2</td>\n",
       "      <td>1</td>\n",
       "    </tr>\n",
       "    <tr>\n",
       "      <th>158</th>\n",
       "      <td>58</td>\n",
       "      <td>1</td>\n",
       "      <td>1</td>\n",
       "      <td>125</td>\n",
       "      <td>220</td>\n",
       "      <td>0</td>\n",
       "      <td>1</td>\n",
       "      <td>144</td>\n",
       "      <td>0</td>\n",
       "      <td>0.4</td>\n",
       "      <td>1</td>\n",
       "      <td>4</td>\n",
       "      <td>3</td>\n",
       "      <td>1</td>\n",
       "    </tr>\n",
       "    <tr>\n",
       "      <th>163</th>\n",
       "      <td>38</td>\n",
       "      <td>1</td>\n",
       "      <td>2</td>\n",
       "      <td>138</td>\n",
       "      <td>175</td>\n",
       "      <td>0</td>\n",
       "      <td>1</td>\n",
       "      <td>173</td>\n",
       "      <td>0</td>\n",
       "      <td>0.0</td>\n",
       "      <td>2</td>\n",
       "      <td>4</td>\n",
       "      <td>2</td>\n",
       "      <td>1</td>\n",
       "    </tr>\n",
       "    <tr>\n",
       "      <th>251</th>\n",
       "      <td>43</td>\n",
       "      <td>1</td>\n",
       "      <td>0</td>\n",
       "      <td>132</td>\n",
       "      <td>247</td>\n",
       "      <td>1</td>\n",
       "      <td>0</td>\n",
       "      <td>143</td>\n",
       "      <td>1</td>\n",
       "      <td>0.1</td>\n",
       "      <td>1</td>\n",
       "      <td>4</td>\n",
       "      <td>3</td>\n",
       "      <td>0</td>\n",
       "    </tr>\n",
       "  </tbody>\n",
       "</table>\n",
       "</div>"
      ],
      "text/plain": [
       "     Age Sex Chest_Pain_Type  Resting_BP  Cholesterol Fasting_Blood_Sugar  \\\n",
       "92    52   1               2         138          223                   0   \n",
       "158   58   1               1         125          220                   0   \n",
       "163   38   1               2         138          175                   0   \n",
       "251   43   1               0         132          247                   1   \n",
       "\n",
       "    Resting_ECG  Max_Heart_Rate Exercise_Induced_Angina  ST_Depression  \\\n",
       "92            1             169                       0            0.0   \n",
       "158           1             144                       0            0.4   \n",
       "163           1             173                       0            0.0   \n",
       "251           0             143                       1            0.1   \n",
       "\n",
       "    ST_Slope Num_Major_Vessels Thalassemia  Target  \n",
       "92         2                 4           2       1  \n",
       "158        1                 4           3       1  \n",
       "163        2                 4           2       1  \n",
       "251        1                 4           3       0  "
      ]
     },
     "execution_count": 24,
     "metadata": {},
     "output_type": "execute_result"
    }
   ],
   "source": [
    "df[df['Num_Major_Vessels']==4]"
   ]
  },
  {
   "cell_type": "code",
   "execution_count": 25,
   "id": "73a57ba4",
   "metadata": {},
   "outputs": [
    {
     "data": {
      "text/plain": [
       "2    165\n",
       "3    117\n",
       "1     18\n",
       "0      2\n",
       "Name: Thalassemia, dtype: int64"
      ]
     },
     "execution_count": 25,
     "metadata": {},
     "output_type": "execute_result"
    }
   ],
   "source": [
    "df.Thalassemia.value_counts()"
   ]
  },
  {
   "cell_type": "markdown",
   "id": "e2b762eb",
   "metadata": {},
   "source": [
    "<div class=\"alert alert-block alert-info\">\n",
    "<b>INSIGHTS </b>&#9658\n",
    "* The 'Thalassemia' column has only 3 (1-3) different values but here it shows 4\n",
    "</div>"
   ]
  },
  {
   "cell_type": "markdown",
   "id": "2f92cad4",
   "metadata": {},
   "source": [
    "#### <font color=blue>Missing Values</font>"
   ]
  },
  {
   "cell_type": "code",
   "execution_count": 26,
   "id": "53478b16",
   "metadata": {},
   "outputs": [
    {
     "data": {
      "text/plain": [
       "Age                        0\n",
       "Sex                        0\n",
       "Chest_Pain_Type            0\n",
       "Resting_BP                 0\n",
       "Cholesterol                0\n",
       "Fasting_Blood_Sugar        0\n",
       "Resting_ECG                0\n",
       "Max_Heart_Rate             0\n",
       "Exercise_Induced_Angina    0\n",
       "ST_Depression              0\n",
       "ST_Slope                   0\n",
       "Num_Major_Vessels          0\n",
       "Thalassemia                0\n",
       "Target                     0\n",
       "dtype: int64"
      ]
     },
     "execution_count": 26,
     "metadata": {},
     "output_type": "execute_result"
    }
   ],
   "source": [
    "df.isnull().sum()"
   ]
  },
  {
   "cell_type": "markdown",
   "id": "832c65a9",
   "metadata": {},
   "source": [
    "<div class=\"alert alert-block alert-info\">\n",
    "<b>INSIGHTS </b>&#9658\n",
    "<ul>\n",
    " <li>There are no missing values in this dataset</li>\n",
    " </ul>\n",
    "</div>"
   ]
  },
  {
   "cell_type": "markdown",
   "id": "dd6a7b5d",
   "metadata": {},
   "source": [
    "#### <font color=blue>Outliers</font>"
   ]
  },
  {
   "cell_type": "code",
   "execution_count": 27,
   "id": "e0ada89f",
   "metadata": {
    "scrolled": true
   },
   "outputs": [
    {
     "data": {
      "text/plain": [
       "<AxesSubplot:>"
      ]
     },
     "execution_count": 27,
     "metadata": {},
     "output_type": "execute_result"
    },
    {
     "data": {
      "image/png": "[encoded data removed]",
      "text/plain": [
       "<Figure size 1000x600 with 1 Axes>"
      ]
     },
     "metadata": {},
     "output_type": "display_data"
    }
   ],
   "source": [
    "# Create subplots of boxplots for numerical columns\n",
    "fig, ax = plt.subplots(figsize=(10,6))\n",
    "sns.boxplot(data=df[num_features])"
   ]
  },
  {
   "cell_type": "markdown",
   "id": "c139e6fc",
   "metadata": {},
   "source": [
    "<div class=\"alert alert-block alert-info\">\n",
    "<b>INSIGHTS </b>&#9658\n",
    "<ul>\n",
    " <li>There are outliers in 'Resting_BP', 'Cholesterol', 'Max_Heart_Rate' columns</li>\n",
    " </ul>\n",
    "</div>"
   ]
  },
  {
   "cell_type": "markdown",
   "id": "4c81b658",
   "metadata": {},
   "source": [
    "## <font color=blue>Exploratory Data Analysis (EDA)</font>"
   ]
  },
  {
   "cell_type": "code",
   "execution_count": 28,
   "id": "455662bf",
   "metadata": {},
   "outputs": [
    {
     "data": {
      "text/html": [
       "<div>\n",
       "<style scoped>\n",
       "    .dataframe tbody tr th:only-of-type {\n",
       "        vertical-align: middle;\n",
       "    }\n",
       "\n",
       "    .dataframe tbody tr th {\n",
       "        vertical-align: top;\n",
       "    }\n",
       "\n",
       "    .dataframe thead th {\n",
       "        text-align: right;\n",
       "    }\n",
       "</style>\n",
       "<table border=\"1\" class=\"dataframe\">\n",
       "  <thead>\n",
       "    <tr style=\"text-align: right;\">\n",
       "      <th></th>\n",
       "      <th>count</th>\n",
       "      <th>mean</th>\n",
       "      <th>std</th>\n",
       "      <th>min</th>\n",
       "      <th>25%</th>\n",
       "      <th>50%</th>\n",
       "      <th>75%</th>\n",
       "      <th>max</th>\n",
       "    </tr>\n",
       "  </thead>\n",
       "  <tbody>\n",
       "    <tr>\n",
       "      <th>Age</th>\n",
       "      <td>302.0</td>\n",
       "      <td>54.420530</td>\n",
       "      <td>9.047970</td>\n",
       "      <td>29.0</td>\n",
       "      <td>48.00</td>\n",
       "      <td>55.5</td>\n",
       "      <td>61.00</td>\n",
       "      <td>77.0</td>\n",
       "    </tr>\n",
       "    <tr>\n",
       "      <th>Resting_BP</th>\n",
       "      <td>302.0</td>\n",
       "      <td>131.602649</td>\n",
       "      <td>17.563394</td>\n",
       "      <td>94.0</td>\n",
       "      <td>120.00</td>\n",
       "      <td>130.0</td>\n",
       "      <td>140.00</td>\n",
       "      <td>200.0</td>\n",
       "    </tr>\n",
       "    <tr>\n",
       "      <th>Cholesterol</th>\n",
       "      <td>302.0</td>\n",
       "      <td>246.500000</td>\n",
       "      <td>51.753489</td>\n",
       "      <td>126.0</td>\n",
       "      <td>211.00</td>\n",
       "      <td>240.5</td>\n",
       "      <td>274.75</td>\n",
       "      <td>564.0</td>\n",
       "    </tr>\n",
       "    <tr>\n",
       "      <th>Max_Heart_Rate</th>\n",
       "      <td>302.0</td>\n",
       "      <td>149.569536</td>\n",
       "      <td>22.903527</td>\n",
       "      <td>71.0</td>\n",
       "      <td>133.25</td>\n",
       "      <td>152.5</td>\n",
       "      <td>166.00</td>\n",
       "      <td>202.0</td>\n",
       "    </tr>\n",
       "    <tr>\n",
       "      <th>ST_Depression</th>\n",
       "      <td>302.0</td>\n",
       "      <td>1.043046</td>\n",
       "      <td>1.161452</td>\n",
       "      <td>0.0</td>\n",
       "      <td>0.00</td>\n",
       "      <td>0.8</td>\n",
       "      <td>1.60</td>\n",
       "      <td>6.2</td>\n",
       "    </tr>\n",
       "    <tr>\n",
       "      <th>Target</th>\n",
       "      <td>302.0</td>\n",
       "      <td>0.543046</td>\n",
       "      <td>0.498970</td>\n",
       "      <td>0.0</td>\n",
       "      <td>0.00</td>\n",
       "      <td>1.0</td>\n",
       "      <td>1.00</td>\n",
       "      <td>1.0</td>\n",
       "    </tr>\n",
       "  </tbody>\n",
       "</table>\n",
       "</div>"
      ],
      "text/plain": [
       "                count        mean        std    min     25%    50%     75%  \\\n",
       "Age             302.0   54.420530   9.047970   29.0   48.00   55.5   61.00   \n",
       "Resting_BP      302.0  131.602649  17.563394   94.0  120.00  130.0  140.00   \n",
       "Cholesterol     302.0  246.500000  51.753489  126.0  211.00  240.5  274.75   \n",
       "Max_Heart_Rate  302.0  149.569536  22.903527   71.0  133.25  152.5  166.00   \n",
       "ST_Depression   302.0    1.043046   1.161452    0.0    0.00    0.8    1.60   \n",
       "Target          302.0    0.543046   0.498970    0.0    0.00    1.0    1.00   \n",
       "\n",
       "                  max  \n",
       "Age              77.0  \n",
       "Resting_BP      200.0  \n",
       "Cholesterol     564.0  \n",
       "Max_Heart_Rate  202.0  \n",
       "ST_Depression     6.2  \n",
       "Target            1.0  "
      ]
     },
     "execution_count": 28,
     "metadata": {},
     "output_type": "execute_result"
    }
   ],
   "source": [
    "df.describe().T"
   ]
  },
  {
   "cell_type": "markdown",
   "id": "50cabc2a",
   "metadata": {},
   "source": [
    "### <font color=blue>A. Numerical features vs Target Variable</font>"
   ]
  },
  {
   "cell_type": "code",
   "execution_count": 29,
   "id": "1a582c3d",
   "metadata": {},
   "outputs": [
    {
     "data": {
      "image/png": "[encoded data removed]",
      "text/plain": [
       "<Figure size 1500x1000 with 5 Axes>"
      ]
     },
     "metadata": {},
     "output_type": "display_data"
    }
   ],
   "source": [
    "# boxplots to show values of num features across Target var\n",
    "fig=plt.figure(figsize=(15,10))\n",
    "palette=sns.color_palette('coolwarm', n_colors=2)\n",
    "for i in range(len(num_features)):\n",
    "    column= num_features[i]\n",
    "    sub=fig.add_subplot(2,3,i+1)\n",
    "    sns.boxplot(x='Target', y=column, data=df, palette=palette)"
   ]
  },
  {
   "cell_type": "markdown",
   "id": "fd3073c4",
   "metadata": {},
   "source": [
    "<div class=\"alert alert-block alert-info\">\n",
    "<b>INSIGHTS </b>&#9658\n",
    "These Box plots shows how the values of numerical features varies across target groups. For example, we can tell that “oldpeak” have distinct difference when target is 0 vs. target is 1, suggesting that it is an important predictor. However, ‘trestbps’ and ‘chol’ appear to be less outstanding, as the box plot distribution is similar between target groups."
   ]
  },
  {
   "cell_type": "markdown",
   "id": "56c793f5",
   "metadata": {},
   "source": [
    "### <font color=blue> B. Categorical features vs Target Variable</font>"
   ]
  },
  {
   "cell_type": "code",
   "execution_count": 30,
   "id": "91a5ca98",
   "metadata": {},
   "outputs": [],
   "source": [
    "cat_features_list = [\"Sex\", \"Chest_Pain_Type\", \"Fasting_Blood_Sugar\",\"Resting_ECG\", \"Exercise_Induced_Angina\", \"ST_Slope\", \n",
    "                            \"Num_Major_Vessels\", \"Thalassemia\"]"
   ]
  },
  {
   "cell_type": "code",
   "execution_count": 32,
   "id": "132ce8e3",
   "metadata": {},
   "outputs": [
    {
     "data": {
      "image/png": "[encoded data removed]",
      "text/plain": [
       "<Figure size 1000x1500 with 8 Axes>"
      ]
     },
     "metadata": {},
     "output_type": "display_data"
    }
   ],
   "source": [
    "# Visualize distributions of categorical features by target value\n",
    "# Create plot for each categorical feature\n",
    "# Create countplot showing count of each category by target value\n",
    "i = 0\n",
    "plt.figure(figsize=(10,15))\n",
    "for cat_feature in cat_features_list:\n",
    "    i += 1\n",
    "    plt.subplot(4, 2, i)\n",
    "    sns.countplot(x = df[cat_feature], data = df, hue = \"Target\", palette=sns.color_palette('coolwarm', n_colors=2))\n",
    "plt.show()"
   ]
  },
  {
   "cell_type": "markdown",
   "id": "5c037fe8",
   "metadata": {},
   "source": [
    "<div class=\"alert alert-block alert-info\">\n",
    "<b>INSIGHTS </b>&#9658\n",
    "</div>\n"
   ]
  },
  {
   "cell_type": "markdown",
   "id": "f6152f7e",
   "metadata": {},
   "source": [
    "* Women have a higher risk of heart disease than men.\n",
    "* If cp -> typical angina the heart disease risk is very low.\n",
    "* fbs may not be a distinctive feature for us.\n",
    "* restecg -> 1 has a higher rate of heart disease than restecg -> 0 (There are few samples for restecg -> 2).\n",
    "* exang -> 0 has a higher rate of heart disease than exang -> 1.\n",
    "* slope -> 2 has a higher rate of heart disease than slope -> 1.\n",
    "* ca -> 0, ca -> 1,2,3 It may be important to us because of the difference between.\n",
    "* thal -> 2 has a higher rate of heart disease than thal -> 3."
   ]
  },
  {
   "cell_type": "markdown",
   "id": "e6b1525d",
   "metadata": {},
   "source": [
    "### <font color=blue>C. Univariate Analysis--->Numerical features</font>"
   ]
  },
  {
   "cell_type": "code",
   "execution_count": 33,
   "id": "489e7097",
   "metadata": {},
   "outputs": [],
   "source": [
    "def num_summary(x): \n",
    "    fig, ax = plt.subplots(figsize=(5,4))\n",
    "    a=x.skew()\n",
    "    rt={\"skewness\":round(a,2)}\n",
    "   \n",
    "    sns.distplot(x, kde_kws={\"color\": \"red\"})\n",
    "    plt.show()\n",
    "    return rt"
   ]
  },
  {
   "cell_type": "code",
   "execution_count": 34,
   "id": "cbe54c6b",
   "metadata": {},
   "outputs": [
    {
     "data": {
      "image/png": "[encoded data removed]",
      "text/plain": [
       "<Figure size 500x400 with 1 Axes>"
      ]
     },
     "metadata": {},
     "output_type": "display_data"
    },
    {
     "data": {
      "text/plain": [
       "{'skewness': -0.2}"
      ]
     },
     "execution_count": 34,
     "metadata": {},
     "output_type": "execute_result"
    }
   ],
   "source": [
    "num_summary(df[\"Age\"])"
   ]
  },
  {
   "cell_type": "code",
   "execution_count": 35,
   "id": "1c726ee8",
   "metadata": {},
   "outputs": [
    {
     "data": {
      "text/plain": [
       "Index(['Age', 'Resting_BP', 'Cholesterol', 'Max_Heart_Rate', 'ST_Depression'], dtype='object')"
      ]
     },
     "execution_count": 35,
     "metadata": {},
     "output_type": "execute_result"
    }
   ],
   "source": [
    "num_features"
   ]
  },
  {
   "cell_type": "code",
   "execution_count": 36,
   "id": "d385f09e",
   "metadata": {},
   "outputs": [
    {
     "data": {
      "image/png": "[encoded data removed]",
      "text/plain": [
       "<Figure size 500x400 with 1 Axes>"
      ]
     },
     "metadata": {},
     "output_type": "display_data"
    },
    {
     "data": {
      "text/plain": [
       "{'skewness': 0.72}"
      ]
     },
     "execution_count": 36,
     "metadata": {},
     "output_type": "execute_result"
    }
   ],
   "source": [
    "num_summary(df[\"Resting_BP\"])"
   ]
  },
  {
   "cell_type": "code",
   "execution_count": 37,
   "id": "8157f37a",
   "metadata": {},
   "outputs": [
    {
     "data": {
      "image/png": "[encoded data removed]",
      "text/plain": [
       "<Figure size 500x400 with 1 Axes>"
      ]
     },
     "metadata": {},
     "output_type": "display_data"
    },
    {
     "data": {
      "text/plain": [
       "{'skewness': 1.15}"
      ]
     },
     "execution_count": 37,
     "metadata": {},
     "output_type": "execute_result"
    }
   ],
   "source": [
    "num_summary(df[\"Cholesterol\"])"
   ]
  },
  {
   "cell_type": "code",
   "execution_count": 38,
   "id": "80e8dbc9",
   "metadata": {},
   "outputs": [
    {
     "data": {
      "image/png": "[encoded data removed]",
      "text/plain": [
       "<Figure size 500x400 with 1 Axes>"
      ]
     },
     "metadata": {},
     "output_type": "display_data"
    },
    {
     "data": {
      "text/plain": [
       "{'skewness': -0.53}"
      ]
     },
     "execution_count": 38,
     "metadata": {},
     "output_type": "execute_result"
    }
   ],
   "source": [
    "num_summary(df[\"Max_Heart_Rate\"])"
   ]
  },
  {
   "cell_type": "code",
   "execution_count": 39,
   "id": "1f665c9d",
   "metadata": {
    "scrolled": true
   },
   "outputs": [
    {
     "data": {
      "image/png": "[encoded data removed]",
      "text/plain": [
       "<Figure size 500x400 with 1 Axes>"
      ]
     },
     "metadata": {},
     "output_type": "display_data"
    },
    {
     "data": {
      "text/plain": [
       "{'skewness': 1.27}"
      ]
     },
     "execution_count": 39,
     "metadata": {},
     "output_type": "execute_result"
    }
   ],
   "source": [
    "num_summary(df[\"ST_Depression\"])"
   ]
  },
  {
   "cell_type": "markdown",
   "id": "4b9b118f",
   "metadata": {},
   "source": [
    "<div class=\"alert alert-block alert-info\">\n",
    "    <b>INSIGHTS </b>&#9658\n",
    "    <ul>\n",
    "     <li> The 'ST_Depression' looks negatively skewed. </li>\n",
    "     <li> And  all other numerical features look distributed normally </li>\n",
    "    </ul>\n",
    "</div>"
   ]
  },
  {
   "cell_type": "markdown",
   "id": "3b6ba3c0",
   "metadata": {},
   "source": [
    "### <font color=blue>D. Univariate Analysis--->Categorical features</font>"
   ]
  },
  {
   "cell_type": "code",
   "execution_count": 40,
   "id": "c6e8613b",
   "metadata": {},
   "outputs": [
    {
     "data": {
      "text/plain": [
       "Index(['Sex', 'Chest_Pain_Type', 'Fasting_Blood_Sugar', 'Resting_ECG',\n",
       "       'Exercise_Induced_Angina', 'ST_Slope', 'Num_Major_Vessels',\n",
       "       'Thalassemia'],\n",
       "      dtype='object')"
      ]
     },
     "execution_count": 40,
     "metadata": {},
     "output_type": "execute_result"
    }
   ],
   "source": [
    "cat_features"
   ]
  },
  {
   "cell_type": "code",
   "execution_count": 41,
   "id": "51051b93",
   "metadata": {},
   "outputs": [],
   "source": [
    "cat_features_1=['Sex', 'Chest_Pain_Type', 'Fasting_Blood_Sugar', 'Resting_ECG']\n",
    "cat_features_2= ['Exercise_Induced_Angina', 'ST_Slope', 'Num_Major_Vessels',\n",
    "       'Thalassemia']\n",
    "# define a function to plot piecarts for each subcategory of the cat_features\n",
    "def list_cat(cat):\n",
    "    fig, axes = plt.subplots(nrows=1, ncols=len(cat), figsize=(20, 6))\n",
    "\n",
    "# Iterate over categorical columns and create pie charts\n",
    "    for i, col in enumerate(cat):\n",
    "        # Count the frequency of each category\n",
    "        category_counts = df[col].value_counts()\n",
    "\n",
    "        # Create the pie chart\n",
    "        axes[i].pie(category_counts, labels=category_counts.index, autopct='%1.1f%%', startangle=90)\n",
    "        axes[i].set_title(col)\n",
    "        axes[i].axis('equal')\n",
    "\n",
    "    # Adjust the spacing between subplots\n",
    "    plt.tight_layout()\n",
    "\n",
    "    # Show the plot\n",
    "    plt.show()\n",
    "\n"
   ]
  },
  {
   "cell_type": "code",
   "execution_count": 42,
   "id": "63c11f7b",
   "metadata": {
    "scrolled": true
   },
   "outputs": [
    {
     "data": {
      "image/png": "[encoded data removed]",
      "text/plain": [
       "<Figure size 2000x600 with 4 Axes>"
      ]
     },
     "metadata": {},
     "output_type": "display_data"
    }
   ],
   "source": [
    "list_cat(cat_features_1)"
   ]
  },
  {
   "cell_type": "markdown",
   "id": "16787534",
   "metadata": {},
   "source": [
    "<div class=\"alert alert-block alert-info\">\n",
    "    <b>INSIGHTS </b>&#9658\n",
    "    <ul>\n",
    "     <li> More than 68% of the participants are male</li>\n",
    "     <li> Almost half of the record data shows people with Chest_pain_Type of Typical Angena(0)</li>\n",
    "     <li> >85% of the sample data shows fasting blood sugar amount  less than 120mg/dl</li>\n",
    "     <li> The data shows resting electrocardio results of values 1(having ST-T wave abnormality) covers half of the total record</li>\n",
    "    </ul>\n",
    "</div>"
   ]
  },
  {
   "cell_type": "code",
   "execution_count": 43,
   "id": "1d4568f7",
   "metadata": {},
   "outputs": [
    {
     "data": {
      "image/png": "[encoded data removed]",
      "text/plain": [
       "<Figure size 2000x600 with 4 Axes>"
      ]
     },
     "metadata": {},
     "output_type": "display_data"
    }
   ],
   "source": [
    "list_cat(cat_features_2)"
   ]
  },
  {
   "cell_type": "markdown",
   "id": "6f6f4f07",
   "metadata": {},
   "source": [
    "<div class=\"alert alert-block alert-info\">\n",
    "    <b>INSIGHTS </b>&#9658\n",
    "In all the features in this subcategory, >50% of records shows from same column values\n",
    "</div>\n",
    " "
   ]
  },
  {
   "cell_type": "markdown",
   "id": "1984c4d8",
   "metadata": {},
   "source": [
    "## <font color=blue>Correlation Matrix</font>"
   ]
  },
  {
   "cell_type": "code",
   "execution_count": 44,
   "id": "8fbde322",
   "metadata": {},
   "outputs": [
    {
     "data": {
      "image/png": "[encoded data removed]",
      "text/plain": [
       "<Figure size 1000x600 with 2 Axes>"
      ]
     },
     "metadata": {},
     "output_type": "display_data"
    }
   ],
   "source": [
    "# correlation matrix for num featres\n",
    "corr_matrix = df.corr()\n",
    "fig, ax = plt.subplots(figsize=(10, 6))\n",
    "ax = sns.heatmap(corr_matrix,annot=True,linewidths=0.5, fmt=\".2f\", cmap=\"Set2\")"
   ]
  },
  {
   "cell_type": "markdown",
   "id": "a09b1fe2",
   "metadata": {},
   "source": [
    "<div class=\"alert alert-block alert-info\">\n",
    "    <b>INSIGHTS </b>&#9658\n",
    "    <ul>\n",
    "     <li> 'Max_Heart-Rate' shows positive correlation with Target variable</li>\n",
    "     <li> 'ST_Depression' shows negative correlation with Target variable</li>\n",
    "     <li> 'Resting_Bp' and \"Cholestrol' shows low correlation with Target variable</li>\n",
    "    </ul>\n",
    "</div>\n",
    " "
   ]
  },
  {
   "cell_type": "markdown",
   "id": "13334af0",
   "metadata": {},
   "source": [
    "## <font color=blue>Feature Engineering</font>"
   ]
  },
  {
   "cell_type": "markdown",
   "id": "9a458215",
   "metadata": {},
   "source": [
    "#### <font color=blue>Fix data characters mistakes</font>"
   ]
  },
  {
   "cell_type": "code",
   "execution_count": 45,
   "id": "522af3e5",
   "metadata": {},
   "outputs": [],
   "source": [
    "# Replace the mistake values in  \"Num_Major_Vessels\", \"Thalassemia\" columns with their respective modes\n",
    "df['Num_Major_Vessels'] = df['Num_Major_Vessels'].replace(4, df['Num_Major_Vessels'].mode()[0])\n",
    "df['Thalassemia'] = df['Thalassemia'].replace(0, df['Thalassemia'].mode()[0])"
   ]
  },
  {
   "cell_type": "code",
   "execution_count": 46,
   "id": "a42d4737",
   "metadata": {},
   "outputs": [
    {
     "data": {
      "text/plain": [
       "0    179\n",
       "1     65\n",
       "2     38\n",
       "3     20\n",
       "Name: Num_Major_Vessels, dtype: int64"
      ]
     },
     "execution_count": 46,
     "metadata": {},
     "output_type": "execute_result"
    }
   ],
   "source": [
    "df.Num_Major_Vessels.value_counts()"
   ]
  },
  {
   "cell_type": "code",
   "execution_count": 47,
   "id": "ad14d763",
   "metadata": {},
   "outputs": [
    {
     "data": {
      "text/plain": [
       "2    165\n",
       "3    117\n",
       "1     18\n",
       "0      2\n",
       "Name: Thalassemia, dtype: int64"
      ]
     },
     "execution_count": 47,
     "metadata": {},
     "output_type": "execute_result"
    }
   ],
   "source": [
    "df.Thalassemia.value_counts()"
   ]
  },
  {
   "cell_type": "markdown",
   "id": "0d705707",
   "metadata": {},
   "source": [
    "#### <font color=blue>Handling Outliers (IQR /Interquartile Range Method:)</font>"
   ]
  },
  {
   "cell_type": "code",
   "execution_count": 48,
   "id": "d6a8c0ac",
   "metadata": {},
   "outputs": [],
   "source": [
    "# Calculate the median value of each feature\n",
    "median_values = df.median()\n",
    "\n",
    "# Calculate the interquartile range (IQR) of num_features\n",
    "Q1 = df.quantile(0.25)\n",
    "Q3 = df.quantile(0.75)\n",
    "IQR = Q3 - Q1\n",
    "\n",
    "# Define the upper and lower bounds for values in each num column\n",
    "lower_bound = Q1 - 1.5 * IQR\n",
    "upper_bound = Q3 + 1.5 * IQR\n",
    "\n",
    "# Replace outliers with the median value of corresponding feature\n",
    "for col in num_features:\n",
    "    df.loc[(df[col] < lower_bound[col]) | (df[col] > upper_bound[col]), col] = median_values[col]"
   ]
  },
  {
   "cell_type": "code",
   "execution_count": 49,
   "id": "a52fedd1",
   "metadata": {},
   "outputs": [
    {
     "data": {
      "text/plain": [
       "<AxesSubplot:>"
      ]
     },
     "execution_count": 49,
     "metadata": {},
     "output_type": "execute_result"
    },
    {
     "data": {
      "image/png": "[encoded data removed]",
      "text/plain": [
       "<Figure size 1000x600 with 1 Axes>"
      ]
     },
     "metadata": {},
     "output_type": "display_data"
    }
   ],
   "source": [
    "# check for outliers again\n",
    "plt.figure(figsize=(10, 6))\n",
    "sns.boxplot(data=df[num_features], palette=sns.color_palette('coolwarm', n_colors=2))"
   ]
  },
  {
   "cell_type": "markdown",
   "id": "78c04517",
   "metadata": {},
   "source": [
    "<div class=\"alert alert-block alert-info\">\n",
    "<b>INSIGHTS </b>&#9658\n",
    "Now there are no outliers in anyone of the numerical columns\n",
    "</div>"
   ]
  },
  {
   "cell_type": "code",
   "execution_count": 50,
   "id": "d7aa8749",
   "metadata": {},
   "outputs": [],
   "source": [
    "# Encode categorical features using the get_dummies function\n",
    "df = pd.get_dummies(df, columns = cat_features_list)"
   ]
  },
  {
   "cell_type": "code",
   "execution_count": 51,
   "id": "df86c625",
   "metadata": {},
   "outputs": [
    {
     "data": {
      "text/html": [
       "<div>\n",
       "<style scoped>\n",
       "    .dataframe tbody tr th:only-of-type {\n",
       "        vertical-align: middle;\n",
       "    }\n",
       "\n",
       "    .dataframe tbody tr th {\n",
       "        vertical-align: top;\n",
       "    }\n",
       "\n",
       "    .dataframe thead th {\n",
       "        text-align: right;\n",
       "    }\n",
       "</style>\n",
       "<table border=\"1\" class=\"dataframe\">\n",
       "  <thead>\n",
       "    <tr style=\"text-align: right;\">\n",
       "      <th></th>\n",
       "      <th>Age</th>\n",
       "      <th>Resting_BP</th>\n",
       "      <th>Cholesterol</th>\n",
       "      <th>Max_Heart_Rate</th>\n",
       "      <th>ST_Depression</th>\n",
       "      <th>Target</th>\n",
       "      <th>Sex_0</th>\n",
       "      <th>Sex_1</th>\n",
       "      <th>Chest_Pain_Type_0</th>\n",
       "      <th>Chest_Pain_Type_1</th>\n",
       "      <th>...</th>\n",
       "      <th>ST_Slope_1</th>\n",
       "      <th>ST_Slope_2</th>\n",
       "      <th>Num_Major_Vessels_0</th>\n",
       "      <th>Num_Major_Vessels_1</th>\n",
       "      <th>Num_Major_Vessels_2</th>\n",
       "      <th>Num_Major_Vessels_3</th>\n",
       "      <th>Thalassemia_3</th>\n",
       "      <th>Thalassemia_0</th>\n",
       "      <th>Thalassemia_1</th>\n",
       "      <th>Thalassemia_2</th>\n",
       "    </tr>\n",
       "  </thead>\n",
       "  <tbody>\n",
       "    <tr>\n",
       "      <th>0</th>\n",
       "      <td>63.0</td>\n",
       "      <td>145</td>\n",
       "      <td>233.0</td>\n",
       "      <td>150.0</td>\n",
       "      <td>2.3</td>\n",
       "      <td>1</td>\n",
       "      <td>0</td>\n",
       "      <td>1</td>\n",
       "      <td>0</td>\n",
       "      <td>0</td>\n",
       "      <td>...</td>\n",
       "      <td>0</td>\n",
       "      <td>0</td>\n",
       "      <td>1</td>\n",
       "      <td>0</td>\n",
       "      <td>0</td>\n",
       "      <td>0</td>\n",
       "      <td>0</td>\n",
       "      <td>0</td>\n",
       "      <td>1</td>\n",
       "      <td>0</td>\n",
       "    </tr>\n",
       "    <tr>\n",
       "      <th>1</th>\n",
       "      <td>37.0</td>\n",
       "      <td>130</td>\n",
       "      <td>250.0</td>\n",
       "      <td>187.0</td>\n",
       "      <td>3.5</td>\n",
       "      <td>1</td>\n",
       "      <td>0</td>\n",
       "      <td>1</td>\n",
       "      <td>0</td>\n",
       "      <td>0</td>\n",
       "      <td>...</td>\n",
       "      <td>0</td>\n",
       "      <td>0</td>\n",
       "      <td>1</td>\n",
       "      <td>0</td>\n",
       "      <td>0</td>\n",
       "      <td>0</td>\n",
       "      <td>0</td>\n",
       "      <td>0</td>\n",
       "      <td>0</td>\n",
       "      <td>1</td>\n",
       "    </tr>\n",
       "    <tr>\n",
       "      <th>2</th>\n",
       "      <td>41.0</td>\n",
       "      <td>130</td>\n",
       "      <td>204.0</td>\n",
       "      <td>172.0</td>\n",
       "      <td>1.4</td>\n",
       "      <td>1</td>\n",
       "      <td>1</td>\n",
       "      <td>0</td>\n",
       "      <td>0</td>\n",
       "      <td>1</td>\n",
       "      <td>...</td>\n",
       "      <td>0</td>\n",
       "      <td>1</td>\n",
       "      <td>1</td>\n",
       "      <td>0</td>\n",
       "      <td>0</td>\n",
       "      <td>0</td>\n",
       "      <td>0</td>\n",
       "      <td>0</td>\n",
       "      <td>0</td>\n",
       "      <td>1</td>\n",
       "    </tr>\n",
       "    <tr>\n",
       "      <th>3</th>\n",
       "      <td>56.0</td>\n",
       "      <td>120</td>\n",
       "      <td>236.0</td>\n",
       "      <td>178.0</td>\n",
       "      <td>0.8</td>\n",
       "      <td>1</td>\n",
       "      <td>0</td>\n",
       "      <td>1</td>\n",
       "      <td>0</td>\n",
       "      <td>1</td>\n",
       "      <td>...</td>\n",
       "      <td>0</td>\n",
       "      <td>1</td>\n",
       "      <td>1</td>\n",
       "      <td>0</td>\n",
       "      <td>0</td>\n",
       "      <td>0</td>\n",
       "      <td>0</td>\n",
       "      <td>0</td>\n",
       "      <td>0</td>\n",
       "      <td>1</td>\n",
       "    </tr>\n",
       "    <tr>\n",
       "      <th>4</th>\n",
       "      <td>57.0</td>\n",
       "      <td>120</td>\n",
       "      <td>354.0</td>\n",
       "      <td>163.0</td>\n",
       "      <td>0.6</td>\n",
       "      <td>1</td>\n",
       "      <td>1</td>\n",
       "      <td>0</td>\n",
       "      <td>1</td>\n",
       "      <td>0</td>\n",
       "      <td>...</td>\n",
       "      <td>0</td>\n",
       "      <td>1</td>\n",
       "      <td>1</td>\n",
       "      <td>0</td>\n",
       "      <td>0</td>\n",
       "      <td>0</td>\n",
       "      <td>0</td>\n",
       "      <td>0</td>\n",
       "      <td>0</td>\n",
       "      <td>1</td>\n",
       "    </tr>\n",
       "    <tr>\n",
       "      <th>...</th>\n",
       "      <td>...</td>\n",
       "      <td>...</td>\n",
       "      <td>...</td>\n",
       "      <td>...</td>\n",
       "      <td>...</td>\n",
       "      <td>...</td>\n",
       "      <td>...</td>\n",
       "      <td>...</td>\n",
       "      <td>...</td>\n",
       "      <td>...</td>\n",
       "      <td>...</td>\n",
       "      <td>...</td>\n",
       "      <td>...</td>\n",
       "      <td>...</td>\n",
       "      <td>...</td>\n",
       "      <td>...</td>\n",
       "      <td>...</td>\n",
       "      <td>...</td>\n",
       "      <td>...</td>\n",
       "      <td>...</td>\n",
       "      <td>...</td>\n",
       "    </tr>\n",
       "    <tr>\n",
       "      <th>298</th>\n",
       "      <td>57.0</td>\n",
       "      <td>140</td>\n",
       "      <td>241.0</td>\n",
       "      <td>123.0</td>\n",
       "      <td>0.2</td>\n",
       "      <td>0</td>\n",
       "      <td>1</td>\n",
       "      <td>0</td>\n",
       "      <td>1</td>\n",
       "      <td>0</td>\n",
       "      <td>...</td>\n",
       "      <td>1</td>\n",
       "      <td>0</td>\n",
       "      <td>1</td>\n",
       "      <td>0</td>\n",
       "      <td>0</td>\n",
       "      <td>0</td>\n",
       "      <td>1</td>\n",
       "      <td>0</td>\n",
       "      <td>0</td>\n",
       "      <td>0</td>\n",
       "    </tr>\n",
       "    <tr>\n",
       "      <th>299</th>\n",
       "      <td>45.0</td>\n",
       "      <td>110</td>\n",
       "      <td>264.0</td>\n",
       "      <td>132.0</td>\n",
       "      <td>1.2</td>\n",
       "      <td>0</td>\n",
       "      <td>0</td>\n",
       "      <td>1</td>\n",
       "      <td>0</td>\n",
       "      <td>0</td>\n",
       "      <td>...</td>\n",
       "      <td>1</td>\n",
       "      <td>0</td>\n",
       "      <td>1</td>\n",
       "      <td>0</td>\n",
       "      <td>0</td>\n",
       "      <td>0</td>\n",
       "      <td>1</td>\n",
       "      <td>0</td>\n",
       "      <td>0</td>\n",
       "      <td>0</td>\n",
       "    </tr>\n",
       "    <tr>\n",
       "      <th>300</th>\n",
       "      <td>68.0</td>\n",
       "      <td>144</td>\n",
       "      <td>193.0</td>\n",
       "      <td>141.0</td>\n",
       "      <td>3.4</td>\n",
       "      <td>0</td>\n",
       "      <td>0</td>\n",
       "      <td>1</td>\n",
       "      <td>1</td>\n",
       "      <td>0</td>\n",
       "      <td>...</td>\n",
       "      <td>1</td>\n",
       "      <td>0</td>\n",
       "      <td>0</td>\n",
       "      <td>0</td>\n",
       "      <td>1</td>\n",
       "      <td>0</td>\n",
       "      <td>1</td>\n",
       "      <td>0</td>\n",
       "      <td>0</td>\n",
       "      <td>0</td>\n",
       "    </tr>\n",
       "    <tr>\n",
       "      <th>301</th>\n",
       "      <td>57.0</td>\n",
       "      <td>130</td>\n",
       "      <td>131.0</td>\n",
       "      <td>115.0</td>\n",
       "      <td>1.2</td>\n",
       "      <td>0</td>\n",
       "      <td>0</td>\n",
       "      <td>1</td>\n",
       "      <td>1</td>\n",
       "      <td>0</td>\n",
       "      <td>...</td>\n",
       "      <td>1</td>\n",
       "      <td>0</td>\n",
       "      <td>0</td>\n",
       "      <td>1</td>\n",
       "      <td>0</td>\n",
       "      <td>0</td>\n",
       "      <td>1</td>\n",
       "      <td>0</td>\n",
       "      <td>0</td>\n",
       "      <td>0</td>\n",
       "    </tr>\n",
       "    <tr>\n",
       "      <th>302</th>\n",
       "      <td>57.0</td>\n",
       "      <td>130</td>\n",
       "      <td>236.0</td>\n",
       "      <td>174.0</td>\n",
       "      <td>0.0</td>\n",
       "      <td>0</td>\n",
       "      <td>1</td>\n",
       "      <td>0</td>\n",
       "      <td>0</td>\n",
       "      <td>1</td>\n",
       "      <td>...</td>\n",
       "      <td>1</td>\n",
       "      <td>0</td>\n",
       "      <td>0</td>\n",
       "      <td>1</td>\n",
       "      <td>0</td>\n",
       "      <td>0</td>\n",
       "      <td>0</td>\n",
       "      <td>0</td>\n",
       "      <td>0</td>\n",
       "      <td>1</td>\n",
       "    </tr>\n",
       "  </tbody>\n",
       "</table>\n",
       "<p>302 rows × 30 columns</p>\n",
       "</div>"
      ],
      "text/plain": [
       "      Age  Resting_BP  Cholesterol  Max_Heart_Rate  ST_Depression  Target  \\\n",
       "0    63.0         145        233.0           150.0            2.3       1   \n",
       "1    37.0         130        250.0           187.0            3.5       1   \n",
       "2    41.0         130        204.0           172.0            1.4       1   \n",
       "3    56.0         120        236.0           178.0            0.8       1   \n",
       "4    57.0         120        354.0           163.0            0.6       1   \n",
       "..    ...         ...          ...             ...            ...     ...   \n",
       "298  57.0         140        241.0           123.0            0.2       0   \n",
       "299  45.0         110        264.0           132.0            1.2       0   \n",
       "300  68.0         144        193.0           141.0            3.4       0   \n",
       "301  57.0         130        131.0           115.0            1.2       0   \n",
       "302  57.0         130        236.0           174.0            0.0       0   \n",
       "\n",
       "     Sex_0  Sex_1  Chest_Pain_Type_0  Chest_Pain_Type_1  ...  ST_Slope_1  \\\n",
       "0        0      1                  0                  0  ...           0   \n",
       "1        0      1                  0                  0  ...           0   \n",
       "2        1      0                  0                  1  ...           0   \n",
       "3        0      1                  0                  1  ...           0   \n",
       "4        1      0                  1                  0  ...           0   \n",
       "..     ...    ...                ...                ...  ...         ...   \n",
       "298      1      0                  1                  0  ...           1   \n",
       "299      0      1                  0                  0  ...           1   \n",
       "300      0      1                  1                  0  ...           1   \n",
       "301      0      1                  1                  0  ...           1   \n",
       "302      1      0                  0                  1  ...           1   \n",
       "\n",
       "     ST_Slope_2  Num_Major_Vessels_0  Num_Major_Vessels_1  \\\n",
       "0             0                    1                    0   \n",
       "1             0                    1                    0   \n",
       "2             1                    1                    0   \n",
       "3             1                    1                    0   \n",
       "4             1                    1                    0   \n",
       "..          ...                  ...                  ...   \n",
       "298           0                    1                    0   \n",
       "299           0                    1                    0   \n",
       "300           0                    0                    0   \n",
       "301           0                    0                    1   \n",
       "302           0                    0                    1   \n",
       "\n",
       "     Num_Major_Vessels_2  Num_Major_Vessels_3  Thalassemia_3  Thalassemia_0  \\\n",
       "0                      0                    0              0              0   \n",
       "1                      0                    0              0              0   \n",
       "2                      0                    0              0              0   \n",
       "3                      0                    0              0              0   \n",
       "4                      0                    0              0              0   \n",
       "..                   ...                  ...            ...            ...   \n",
       "298                    0                    0              1              0   \n",
       "299                    0                    0              1              0   \n",
       "300                    1                    0              1              0   \n",
       "301                    0                    0              1              0   \n",
       "302                    0                    0              0              0   \n",
       "\n",
       "     Thalassemia_1  Thalassemia_2  \n",
       "0                1              0  \n",
       "1                0              1  \n",
       "2                0              1  \n",
       "3                0              1  \n",
       "4                0              1  \n",
       "..             ...            ...  \n",
       "298              0              0  \n",
       "299              0              0  \n",
       "300              0              0  \n",
       "301              0              0  \n",
       "302              0              1  \n",
       "\n",
       "[302 rows x 30 columns]"
      ]
     },
     "execution_count": 51,
     "metadata": {},
     "output_type": "execute_result"
    }
   ],
   "source": [
    "df"
   ]
  },
  {
   "cell_type": "markdown",
   "id": "dc55fd15",
   "metadata": {},
   "source": [
    "## <font color=blue>Split Data</font>"
   ]
  },
  {
   "cell_type": "markdown",
   "id": "20959f66",
   "metadata": {},
   "source": [
    "### X and y"
   ]
  },
  {
   "cell_type": "code",
   "execution_count": 52,
   "id": "32215553",
   "metadata": {},
   "outputs": [],
   "source": [
    "X=df.drop(\"Target\", axis=1)\n",
    "y=df[\"Target\"]"
   ]
  },
  {
   "cell_type": "code",
   "execution_count": 53,
   "id": "e570ab7c",
   "metadata": {},
   "outputs": [
    {
     "data": {
      "text/html": [
       "<div>\n",
       "<style scoped>\n",
       "    .dataframe tbody tr th:only-of-type {\n",
       "        vertical-align: middle;\n",
       "    }\n",
       "\n",
       "    .dataframe tbody tr th {\n",
       "        vertical-align: top;\n",
       "    }\n",
       "\n",
       "    .dataframe thead th {\n",
       "        text-align: right;\n",
       "    }\n",
       "</style>\n",
       "<table border=\"1\" class=\"dataframe\">\n",
       "  <thead>\n",
       "    <tr style=\"text-align: right;\">\n",
       "      <th></th>\n",
       "      <th>Age</th>\n",
       "      <th>Resting_BP</th>\n",
       "      <th>Cholesterol</th>\n",
       "      <th>Max_Heart_Rate</th>\n",
       "      <th>ST_Depression</th>\n",
       "      <th>Sex_0</th>\n",
       "      <th>Sex_1</th>\n",
       "      <th>Chest_Pain_Type_0</th>\n",
       "      <th>Chest_Pain_Type_1</th>\n",
       "      <th>Chest_Pain_Type_2</th>\n",
       "      <th>...</th>\n",
       "      <th>ST_Slope_1</th>\n",
       "      <th>ST_Slope_2</th>\n",
       "      <th>Num_Major_Vessels_0</th>\n",
       "      <th>Num_Major_Vessels_1</th>\n",
       "      <th>Num_Major_Vessels_2</th>\n",
       "      <th>Num_Major_Vessels_3</th>\n",
       "      <th>Thalassemia_3</th>\n",
       "      <th>Thalassemia_0</th>\n",
       "      <th>Thalassemia_1</th>\n",
       "      <th>Thalassemia_2</th>\n",
       "    </tr>\n",
       "  </thead>\n",
       "  <tbody>\n",
       "    <tr>\n",
       "      <th>0</th>\n",
       "      <td>63.0</td>\n",
       "      <td>145</td>\n",
       "      <td>233.0</td>\n",
       "      <td>150.0</td>\n",
       "      <td>2.3</td>\n",
       "      <td>0</td>\n",
       "      <td>1</td>\n",
       "      <td>0</td>\n",
       "      <td>0</td>\n",
       "      <td>0</td>\n",
       "      <td>...</td>\n",
       "      <td>0</td>\n",
       "      <td>0</td>\n",
       "      <td>1</td>\n",
       "      <td>0</td>\n",
       "      <td>0</td>\n",
       "      <td>0</td>\n",
       "      <td>0</td>\n",
       "      <td>0</td>\n",
       "      <td>1</td>\n",
       "      <td>0</td>\n",
       "    </tr>\n",
       "    <tr>\n",
       "      <th>1</th>\n",
       "      <td>37.0</td>\n",
       "      <td>130</td>\n",
       "      <td>250.0</td>\n",
       "      <td>187.0</td>\n",
       "      <td>3.5</td>\n",
       "      <td>0</td>\n",
       "      <td>1</td>\n",
       "      <td>0</td>\n",
       "      <td>0</td>\n",
       "      <td>1</td>\n",
       "      <td>...</td>\n",
       "      <td>0</td>\n",
       "      <td>0</td>\n",
       "      <td>1</td>\n",
       "      <td>0</td>\n",
       "      <td>0</td>\n",
       "      <td>0</td>\n",
       "      <td>0</td>\n",
       "      <td>0</td>\n",
       "      <td>0</td>\n",
       "      <td>1</td>\n",
       "    </tr>\n",
       "    <tr>\n",
       "      <th>2</th>\n",
       "      <td>41.0</td>\n",
       "      <td>130</td>\n",
       "      <td>204.0</td>\n",
       "      <td>172.0</td>\n",
       "      <td>1.4</td>\n",
       "      <td>1</td>\n",
       "      <td>0</td>\n",
       "      <td>0</td>\n",
       "      <td>1</td>\n",
       "      <td>0</td>\n",
       "      <td>...</td>\n",
       "      <td>0</td>\n",
       "      <td>1</td>\n",
       "      <td>1</td>\n",
       "      <td>0</td>\n",
       "      <td>0</td>\n",
       "      <td>0</td>\n",
       "      <td>0</td>\n",
       "      <td>0</td>\n",
       "      <td>0</td>\n",
       "      <td>1</td>\n",
       "    </tr>\n",
       "    <tr>\n",
       "      <th>3</th>\n",
       "      <td>56.0</td>\n",
       "      <td>120</td>\n",
       "      <td>236.0</td>\n",
       "      <td>178.0</td>\n",
       "      <td>0.8</td>\n",
       "      <td>0</td>\n",
       "      <td>1</td>\n",
       "      <td>0</td>\n",
       "      <td>1</td>\n",
       "      <td>0</td>\n",
       "      <td>...</td>\n",
       "      <td>0</td>\n",
       "      <td>1</td>\n",
       "      <td>1</td>\n",
       "      <td>0</td>\n",
       "      <td>0</td>\n",
       "      <td>0</td>\n",
       "      <td>0</td>\n",
       "      <td>0</td>\n",
       "      <td>0</td>\n",
       "      <td>1</td>\n",
       "    </tr>\n",
       "    <tr>\n",
       "      <th>4</th>\n",
       "      <td>57.0</td>\n",
       "      <td>120</td>\n",
       "      <td>354.0</td>\n",
       "      <td>163.0</td>\n",
       "      <td>0.6</td>\n",
       "      <td>1</td>\n",
       "      <td>0</td>\n",
       "      <td>1</td>\n",
       "      <td>0</td>\n",
       "      <td>0</td>\n",
       "      <td>...</td>\n",
       "      <td>0</td>\n",
       "      <td>1</td>\n",
       "      <td>1</td>\n",
       "      <td>0</td>\n",
       "      <td>0</td>\n",
       "      <td>0</td>\n",
       "      <td>0</td>\n",
       "      <td>0</td>\n",
       "      <td>0</td>\n",
       "      <td>1</td>\n",
       "    </tr>\n",
       "    <tr>\n",
       "      <th>...</th>\n",
       "      <td>...</td>\n",
       "      <td>...</td>\n",
       "      <td>...</td>\n",
       "      <td>...</td>\n",
       "      <td>...</td>\n",
       "      <td>...</td>\n",
       "      <td>...</td>\n",
       "      <td>...</td>\n",
       "      <td>...</td>\n",
       "      <td>...</td>\n",
       "      <td>...</td>\n",
       "      <td>...</td>\n",
       "      <td>...</td>\n",
       "      <td>...</td>\n",
       "      <td>...</td>\n",
       "      <td>...</td>\n",
       "      <td>...</td>\n",
       "      <td>...</td>\n",
       "      <td>...</td>\n",
       "      <td>...</td>\n",
       "      <td>...</td>\n",
       "    </tr>\n",
       "    <tr>\n",
       "      <th>298</th>\n",
       "      <td>57.0</td>\n",
       "      <td>140</td>\n",
       "      <td>241.0</td>\n",
       "      <td>123.0</td>\n",
       "      <td>0.2</td>\n",
       "      <td>1</td>\n",
       "      <td>0</td>\n",
       "      <td>1</td>\n",
       "      <td>0</td>\n",
       "      <td>0</td>\n",
       "      <td>...</td>\n",
       "      <td>1</td>\n",
       "      <td>0</td>\n",
       "      <td>1</td>\n",
       "      <td>0</td>\n",
       "      <td>0</td>\n",
       "      <td>0</td>\n",
       "      <td>1</td>\n",
       "      <td>0</td>\n",
       "      <td>0</td>\n",
       "      <td>0</td>\n",
       "    </tr>\n",
       "    <tr>\n",
       "      <th>299</th>\n",
       "      <td>45.0</td>\n",
       "      <td>110</td>\n",
       "      <td>264.0</td>\n",
       "      <td>132.0</td>\n",
       "      <td>1.2</td>\n",
       "      <td>0</td>\n",
       "      <td>1</td>\n",
       "      <td>0</td>\n",
       "      <td>0</td>\n",
       "      <td>0</td>\n",
       "      <td>...</td>\n",
       "      <td>1</td>\n",
       "      <td>0</td>\n",
       "      <td>1</td>\n",
       "      <td>0</td>\n",
       "      <td>0</td>\n",
       "      <td>0</td>\n",
       "      <td>1</td>\n",
       "      <td>0</td>\n",
       "      <td>0</td>\n",
       "      <td>0</td>\n",
       "    </tr>\n",
       "    <tr>\n",
       "      <th>300</th>\n",
       "      <td>68.0</td>\n",
       "      <td>144</td>\n",
       "      <td>193.0</td>\n",
       "      <td>141.0</td>\n",
       "      <td>3.4</td>\n",
       "      <td>0</td>\n",
       "      <td>1</td>\n",
       "      <td>1</td>\n",
       "      <td>0</td>\n",
       "      <td>0</td>\n",
       "      <td>...</td>\n",
       "      <td>1</td>\n",
       "      <td>0</td>\n",
       "      <td>0</td>\n",
       "      <td>0</td>\n",
       "      <td>1</td>\n",
       "      <td>0</td>\n",
       "      <td>1</td>\n",
       "      <td>0</td>\n",
       "      <td>0</td>\n",
       "      <td>0</td>\n",
       "    </tr>\n",
       "    <tr>\n",
       "      <th>301</th>\n",
       "      <td>57.0</td>\n",
       "      <td>130</td>\n",
       "      <td>131.0</td>\n",
       "      <td>115.0</td>\n",
       "      <td>1.2</td>\n",
       "      <td>0</td>\n",
       "      <td>1</td>\n",
       "      <td>1</td>\n",
       "      <td>0</td>\n",
       "      <td>0</td>\n",
       "      <td>...</td>\n",
       "      <td>1</td>\n",
       "      <td>0</td>\n",
       "      <td>0</td>\n",
       "      <td>1</td>\n",
       "      <td>0</td>\n",
       "      <td>0</td>\n",
       "      <td>1</td>\n",
       "      <td>0</td>\n",
       "      <td>0</td>\n",
       "      <td>0</td>\n",
       "    </tr>\n",
       "    <tr>\n",
       "      <th>302</th>\n",
       "      <td>57.0</td>\n",
       "      <td>130</td>\n",
       "      <td>236.0</td>\n",
       "      <td>174.0</td>\n",
       "      <td>0.0</td>\n",
       "      <td>1</td>\n",
       "      <td>0</td>\n",
       "      <td>0</td>\n",
       "      <td>1</td>\n",
       "      <td>0</td>\n",
       "      <td>...</td>\n",
       "      <td>1</td>\n",
       "      <td>0</td>\n",
       "      <td>0</td>\n",
       "      <td>1</td>\n",
       "      <td>0</td>\n",
       "      <td>0</td>\n",
       "      <td>0</td>\n",
       "      <td>0</td>\n",
       "      <td>0</td>\n",
       "      <td>1</td>\n",
       "    </tr>\n",
       "  </tbody>\n",
       "</table>\n",
       "<p>302 rows × 29 columns</p>\n",
       "</div>"
      ],
      "text/plain": [
       "      Age  Resting_BP  Cholesterol  Max_Heart_Rate  ST_Depression  Sex_0  \\\n",
       "0    63.0         145        233.0           150.0            2.3      0   \n",
       "1    37.0         130        250.0           187.0            3.5      0   \n",
       "2    41.0         130        204.0           172.0            1.4      1   \n",
       "3    56.0         120        236.0           178.0            0.8      0   \n",
       "4    57.0         120        354.0           163.0            0.6      1   \n",
       "..    ...         ...          ...             ...            ...    ...   \n",
       "298  57.0         140        241.0           123.0            0.2      1   \n",
       "299  45.0         110        264.0           132.0            1.2      0   \n",
       "300  68.0         144        193.0           141.0            3.4      0   \n",
       "301  57.0         130        131.0           115.0            1.2      0   \n",
       "302  57.0         130        236.0           174.0            0.0      1   \n",
       "\n",
       "     Sex_1  Chest_Pain_Type_0  Chest_Pain_Type_1  Chest_Pain_Type_2  ...  \\\n",
       "0        1                  0                  0                  0  ...   \n",
       "1        1                  0                  0                  1  ...   \n",
       "2        0                  0                  1                  0  ...   \n",
       "3        1                  0                  1                  0  ...   \n",
       "4        0                  1                  0                  0  ...   \n",
       "..     ...                ...                ...                ...  ...   \n",
       "298      0                  1                  0                  0  ...   \n",
       "299      1                  0                  0                  0  ...   \n",
       "300      1                  1                  0                  0  ...   \n",
       "301      1                  1                  0                  0  ...   \n",
       "302      0                  0                  1                  0  ...   \n",
       "\n",
       "     ST_Slope_1  ST_Slope_2  Num_Major_Vessels_0  Num_Major_Vessels_1  \\\n",
       "0             0           0                    1                    0   \n",
       "1             0           0                    1                    0   \n",
       "2             0           1                    1                    0   \n",
       "3             0           1                    1                    0   \n",
       "4             0           1                    1                    0   \n",
       "..          ...         ...                  ...                  ...   \n",
       "298           1           0                    1                    0   \n",
       "299           1           0                    1                    0   \n",
       "300           1           0                    0                    0   \n",
       "301           1           0                    0                    1   \n",
       "302           1           0                    0                    1   \n",
       "\n",
       "     Num_Major_Vessels_2  Num_Major_Vessels_3  Thalassemia_3  Thalassemia_0  \\\n",
       "0                      0                    0              0              0   \n",
       "1                      0                    0              0              0   \n",
       "2                      0                    0              0              0   \n",
       "3                      0                    0              0              0   \n",
       "4                      0                    0              0              0   \n",
       "..                   ...                  ...            ...            ...   \n",
       "298                    0                    0              1              0   \n",
       "299                    0                    0              1              0   \n",
       "300                    1                    0              1              0   \n",
       "301                    0                    0              1              0   \n",
       "302                    0                    0              0              0   \n",
       "\n",
       "     Thalassemia_1  Thalassemia_2  \n",
       "0                1              0  \n",
       "1                0              1  \n",
       "2                0              1  \n",
       "3                0              1  \n",
       "4                0              1  \n",
       "..             ...            ...  \n",
       "298              0              0  \n",
       "299              0              0  \n",
       "300              0              0  \n",
       "301              0              0  \n",
       "302              0              1  \n",
       "\n",
       "[302 rows x 29 columns]"
      ]
     },
     "execution_count": 53,
     "metadata": {},
     "output_type": "execute_result"
    }
   ],
   "source": [
    "X"
   ]
  },
  {
   "cell_type": "markdown",
   "id": "d0e9296d",
   "metadata": {},
   "source": [
    "#### <font color=blue>Data Imbalance</font>"
   ]
  },
  {
   "cell_type": "code",
   "execution_count": 54,
   "id": "2505feaf",
   "metadata": {},
   "outputs": [
    {
     "data": {
      "image/png": "[encoded data removed]",
      "text/plain": [
       "<Figure size 1200x600 with 2 Axes>"
      ]
     },
     "metadata": {},
     "output_type": "display_data"
    }
   ],
   "source": [
    "# Plotting Heart Disease distribution\n",
    "fig, (ax1, ax2) = plt.subplots(nrows=1, ncols=2, sharey=False, figsize=(12,6))\n",
    "palette=sns.color_palette('coolwarm', n_colors=2)\n",
    "ax1 = df['Target'].value_counts().plot.pie( x=\"Heart disease\" ,y ='no. of patients',colors = palette,\n",
    "                   autopct = \"%1.0f%%\",labels=[\"Diseased\",\"Not Diseased\"], startangle = 90,ax=ax1, explode=[.1,.1],shadow =True);\n",
    "ax1.set(title = 'Percentage of Heart disease patients in Dataset')\n",
    "\n",
    "ax2 = df[\"Target\"].value_counts().plot(kind=\"barh\" ,ax =ax2)\n",
    "for i,j in enumerate(df[\"Target\"].value_counts().values):\n",
    "    ax2.text(.5,i,j,fontsize=12)\n",
    "ax2.set(title = 'No. of Diseased/Not Diseased patients in Dataset')\n",
    "plt.show()\n"
   ]
  },
  {
   "cell_type": "code",
   "execution_count": 55,
   "id": "8d67b375",
   "metadata": {},
   "outputs": [
    {
     "data": {
      "text/plain": [
       "1    164\n",
       "0    138\n",
       "Name: Target, dtype: int64"
      ]
     },
     "execution_count": 55,
     "metadata": {},
     "output_type": "execute_result"
    }
   ],
   "source": [
    "y.value_counts()"
   ]
  },
  {
   "cell_type": "code",
   "execution_count": 56,
   "id": "d0ed8727",
   "metadata": {
    "scrolled": true
   },
   "outputs": [],
   "source": [
    "#!pip3 install imbalanced-learn"
   ]
  },
  {
   "cell_type": "code",
   "execution_count": 57,
   "id": "80f54c7c",
   "metadata": {},
   "outputs": [],
   "source": [
    "from imblearn.over_sampling import SMOTE"
   ]
  },
  {
   "cell_type": "code",
   "execution_count": 58,
   "id": "c751db83",
   "metadata": {},
   "outputs": [],
   "source": [
    "X_resampled, y_resampled =SMOTE().fit_resample(X,y)"
   ]
  },
  {
   "cell_type": "code",
   "execution_count": 59,
   "id": "4ca071d7",
   "metadata": {
    "scrolled": false
   },
   "outputs": [
    {
     "data": {
      "text/plain": [
       "1    164\n",
       "0    164\n",
       "Name: Target, dtype: int64"
      ]
     },
     "execution_count": 59,
     "metadata": {},
     "output_type": "execute_result"
    }
   ],
   "source": [
    "y_resampled.value_counts()"
   ]
  },
  {
   "cell_type": "markdown",
   "id": "4aa61e57",
   "metadata": {},
   "source": [
    "<div class=\"alert alert-block alert-info\">\n",
    "    <b>INSIGHTS </b>&#9658\n",
    "    <ul>\n",
    "     <li> Output/Target column is now fully balanced</li>   \n",
    "   </ul>\n",
    "</div>"
   ]
  },
  {
   "cell_type": "code",
   "execution_count": 60,
   "id": "5b43c83a",
   "metadata": {},
   "outputs": [],
   "source": [
    "X_train,X_test, y_train,  y_test=train_test_split(X_resampled,y_resampled,test_size=0.2, random_state=42)"
   ]
  },
  {
   "cell_type": "code",
   "execution_count": 61,
   "id": "a0e286ba",
   "metadata": {},
   "outputs": [
    {
     "name": "stdout",
     "output_type": "stream",
     "text": [
      "X_train:  262\n",
      "X_test:  66\n",
      "y_train:  262\n",
      "y_test:  66\n"
     ]
    }
   ],
   "source": [
    "print(\"X_train: \",len(X_train))\n",
    "print(\"X_test: \",len(X_test))\n",
    "print(\"y_train: \",len(y_train))\n",
    "print(\"y_test: \",len(y_test))"
   ]
  },
  {
   "cell_type": "code",
   "execution_count": 62,
   "id": "b0f9e931",
   "metadata": {},
   "outputs": [
    {
     "data": {
      "text/plain": [
       "(66, 29)"
      ]
     },
     "execution_count": 62,
     "metadata": {},
     "output_type": "execute_result"
    }
   ],
   "source": [
    "X_test.shape"
   ]
  },
  {
   "cell_type": "markdown",
   "id": "0b082262",
   "metadata": {},
   "source": [
    "#### <font color=blue>Feature scaling</font>"
   ]
  },
  {
   "cell_type": "code",
   "execution_count": 63,
   "id": "bad60309",
   "metadata": {},
   "outputs": [],
   "source": [
    "st=StandardScaler()"
   ]
  },
  {
   "cell_type": "code",
   "execution_count": 64,
   "id": "a89ad89d",
   "metadata": {},
   "outputs": [],
   "source": [
    "X_train = st.fit_transform(X_train)\n",
    "X_test = st.transform(X_test)"
   ]
  },
  {
   "cell_type": "code",
   "execution_count": 65,
   "id": "59134271",
   "metadata": {},
   "outputs": [
    {
     "data": {
      "text/plain": [
       "array([[-0.53370852,  1.30285972,  0.02775908, ..., -0.0877058 ,\n",
       "        -0.23759548, -1.01538552],\n",
       "       [ 1.24621997,  1.30285972, -0.37078569, ..., -0.0877058 ,\n",
       "        -0.23759548,  0.98484761],\n",
       "       [-1.64616383,  0.63328489, -1.00376857, ..., -0.0877058 ,\n",
       "        -0.23759548, -1.01538552],\n",
       "       ...,\n",
       "       [ 1.57995657,  1.97243454, -0.18323521, ..., -0.0877058 ,\n",
       "        -0.23759548,  0.98484761],\n",
       "       [ 0.68999232,  0.23154   , -0.18323521, ..., -0.0877058 ,\n",
       "        -0.23759548,  0.98484761],\n",
       "       [ 0.91248338,  0.63328489, -1.09754381, ..., -0.0877058 ,\n",
       "        -0.23759548,  0.98484761]])"
      ]
     },
     "execution_count": 65,
     "metadata": {},
     "output_type": "execute_result"
    }
   ],
   "source": [
    "X_train"
   ]
  },
  {
   "cell_type": "markdown",
   "id": "5525a566",
   "metadata": {},
   "source": [
    "#### <font color=blue>PCA</font>"
   ]
  },
  {
   "cell_type": "code",
   "execution_count": 66,
   "id": "c79e015f",
   "metadata": {},
   "outputs": [],
   "source": [
    "pca=PCA(n_components=0.95) "
   ]
  },
  {
   "cell_type": "code",
   "execution_count": 67,
   "id": "72710c21",
   "metadata": {},
   "outputs": [],
   "source": [
    "X_train=pca.fit_transform(X_train)\n",
    "X_test=pca.transform(X_test)"
   ]
  },
  {
   "cell_type": "code",
   "execution_count": 68,
   "id": "596dfeea",
   "metadata": {
    "scrolled": true
   },
   "outputs": [],
   "source": [
    "explained_variance_ratios=pca.explained_variance_ratio_"
   ]
  },
  {
   "cell_type": "code",
   "execution_count": 69,
   "id": "85bea727",
   "metadata": {},
   "outputs": [
    {
     "name": "stdout",
     "output_type": "stream",
     "text": [
      "Age: 0.16802868268561805\n",
      "Resting_BP: 0.08351005359466124\n",
      "Cholesterol: 0.0767224301640008\n",
      "Max_Heart_Rate: 0.0672463518436375\n",
      "ST_Depression: 0.057261997047350924\n",
      "Target: 0.05220785220320824\n",
      "Sex_0: 0.05081363618983847\n",
      "Sex_1: 0.045035412500654265\n",
      "Chest_Pain_Type_0: 0.040839132658744295\n",
      "Chest_Pain_Type_1: 0.03872092534151679\n",
      "Chest_Pain_Type_2: 0.038320842723627235\n",
      "Chest_Pain_Type_3: 0.037017689121229776\n",
      "Fasting_Blood_Sugar_0: 0.03459325912599512\n",
      "Fasting_Blood_Sugar_1: 0.03176885085608603\n",
      "Resting_ECG_0: 0.03130200477928825\n",
      "Resting_ECG_1: 0.028846326204242535\n",
      "Resting_ECG_2: 0.024313616286511866\n",
      "Exercise_Induced_Angina_0: 0.023491392458585857\n",
      "Exercise_Induced_Angina_1: 0.022860771553280427\n"
     ]
    }
   ],
   "source": [
    "column_names = df.columns\n",
    "for i, var_ratio in enumerate(explained_variance_ratios):\n",
    "    print(f\"{column_names[i]}: {var_ratio}\")"
   ]
  },
  {
   "cell_type": "code",
   "execution_count": 70,
   "id": "12d21c26",
   "metadata": {},
   "outputs": [
    {
     "data": {
      "text/plain": [
       "0.9529012273380777"
      ]
     },
     "execution_count": 70,
     "metadata": {},
     "output_type": "execute_result"
    }
   ],
   "source": [
    "sum(pca.explained_variance_ratio_ )"
   ]
  },
  {
   "cell_type": "markdown",
   "id": "a8512463",
   "metadata": {},
   "source": [
    "## <font color=blue>Model Selection</font>"
   ]
  },
  {
   "cell_type": "markdown",
   "id": "aeb3ecfa",
   "metadata": {},
   "source": [
    "### <font color=red>A. Logistic regression</font>"
   ]
  },
  {
   "cell_type": "code",
   "execution_count": 71,
   "id": "b0d2b591",
   "metadata": {},
   "outputs": [
    {
     "name": "stdout",
     "output_type": "stream",
     "text": [
      "Best hyperparameters:  {'C': 10, 'penalty': 'l1', 'solver': 'saga'}\n",
      "Best test score: 0.87\n",
      "Accuracy score: 0.88\n"
     ]
    },
    {
     "data": {
      "text/plain": [
       "LogisticRegression()"
      ]
     },
     "execution_count": 71,
     "metadata": {},
     "output_type": "execute_result"
    }
   ],
   "source": [
    "params = {'C': [0.1, 1, 10],\n",
    "          'penalty': ['l1', 'l2'],\n",
    "          'solver': ['liblinear', 'saga']}\n",
    "log=LogisticRegression()\n",
    "grid_search = GridSearchCV(log, params, cv=5, n_jobs=-1)\n",
    "grid_search.fit(X_train, y_train)\n",
    "#\n",
    "print(\"Best hyperparameters: \", grid_search.best_params_)\n",
    "print(\"Best test score: {:.2f}\".format(grid_search.best_score_))\n",
    "y_pred_log = grid_search.predict(X_test)\n",
    "\n",
    "# Calculate accuracy score of the best model on the test set\n",
    "acc_score = accuracy_score(y_test, y_pred_log)\n",
    "print(\"Accuracy score: {:.2f}\".format(acc_score))\n",
    "log.fit(X_train,y_train)"
   ]
  },
  {
   "cell_type": "markdown",
   "id": "7180bbe4",
   "metadata": {},
   "source": [
    "### <font color=red>B. SVC (Support Vector Classifier) </font>"
   ]
  },
  {
   "cell_type": "code",
   "execution_count": 72,
   "id": "58dee9c9",
   "metadata": {},
   "outputs": [],
   "source": [
    "svc_scores = []\n",
    "kernels = ['linear', 'poly', 'rbf', 'sigmoid']\n",
    "for i in range(len(kernels)):\n",
    "    svc_classifier = SVC(kernel = kernels[i])\n",
    "    svc_classifier.fit(X_train, y_train)\n",
    "    svc_scores.append(svc_classifier.score(X_test, y_test))"
   ]
  },
  {
   "cell_type": "code",
   "execution_count": 73,
   "id": "b07967a3",
   "metadata": {},
   "outputs": [
    {
     "data": {
      "image/png": "[encoded data removed]",
      "text/plain": [
       "<Figure size 640x480 with 1 Axes>"
      ]
     },
     "metadata": {},
     "output_type": "display_data"
    }
   ],
   "source": [
    "colors = plt.cm.rainbow(np.linspace(0, 1, len(kernels)))\n",
    "plt.bar(kernels, svc_scores, color = colors)\n",
    "for i in range(len(kernels)):\n",
    "    plt.text(i, svc_scores[i], \"{:.2f}\".format(svc_scores[i]))\n",
    "plt.xlabel('Kernels')\n",
    "plt.ylabel('Scores')\n",
    "plt.title('Support Vector Classifier scores for different kernels')\n",
    "plt.show()"
   ]
  },
  {
   "cell_type": "markdown",
   "id": "d8e81fff",
   "metadata": {},
   "source": [
    "poly and rbf give the best performance; But decision boundaries generated by the poly and linear kernel may be easier to interpret than those generated by the other kernels."
   ]
  },
  {
   "cell_type": "code",
   "execution_count": 74,
   "id": "145fafe2",
   "metadata": {},
   "outputs": [],
   "source": [
    "svc=SVC(kernel='poly')"
   ]
  },
  {
   "cell_type": "code",
   "execution_count": 75,
   "id": "1a8e9257",
   "metadata": {},
   "outputs": [
    {
     "data": {
      "text/plain": [
       "SVC(kernel='poly')"
      ]
     },
     "execution_count": 75,
     "metadata": {},
     "output_type": "execute_result"
    }
   ],
   "source": [
    "svc.fit(X_train,y_train)"
   ]
  },
  {
   "cell_type": "code",
   "execution_count": 76,
   "id": "d5ed8b4e",
   "metadata": {},
   "outputs": [],
   "source": [
    "y_pred_svc=svc.predict(X_test)"
   ]
  },
  {
   "cell_type": "markdown",
   "id": "44311661",
   "metadata": {},
   "source": [
    "### <font color=red>C. KNN (K-Nearest Neighbors) </font>"
   ]
  },
  {
   "cell_type": "code",
   "execution_count": 77,
   "id": "904fafda",
   "metadata": {},
   "outputs": [],
   "source": [
    "k_range = list(range(1, 31))"
   ]
  },
  {
   "cell_type": "code",
   "execution_count": 78,
   "id": "4c5f3884",
   "metadata": {},
   "outputs": [],
   "source": [
    "param_knn = dict(n_neighbors=k_range)\n",
    "knn=KNeighborsClassifier(param_knn)"
   ]
  },
  {
   "cell_type": "code",
   "execution_count": 79,
   "id": "b530b15f",
   "metadata": {},
   "outputs": [],
   "source": [
    "grid_knn = GridSearchCV(knn, param_knn, cv=10, scoring='accuracy')"
   ]
  },
  {
   "cell_type": "code",
   "execution_count": 80,
   "id": "cf161d13",
   "metadata": {},
   "outputs": [
    {
     "data": {
      "text/plain": [
       "GridSearchCV(cv=10,\n",
       "             estimator=KNeighborsClassifier(n_neighbors={'n_neighbors': [1, 2,\n",
       "                                                                         3, 4,\n",
       "                                                                         5, 6,\n",
       "                                                                         7, 8,\n",
       "                                                                         9, 10,\n",
       "                                                                         11, 12,\n",
       "                                                                         13, 14,\n",
       "                                                                         15, 16,\n",
       "                                                                         17, 18,\n",
       "                                                                         19, 20,\n",
       "                                                                         21, 22,\n",
       "                                                                         23, 24,\n",
       "                                                                         25, 26,\n",
       "                                                                         27, 28,\n",
       "                                                                         29,\n",
       "                                                                         30]}),\n",
       "             param_grid={'n_neighbors': [1, 2, 3, 4, 5, 6, 7, 8, 9, 10, 11, 12,\n",
       "                                         13, 14, 15, 16, 17, 18, 19, 20, 21, 22,\n",
       "                                         23, 24, 25, 26, 27, 28, 29, 30]},\n",
       "             scoring='accuracy')"
      ]
     },
     "execution_count": 80,
     "metadata": {},
     "output_type": "execute_result"
    }
   ],
   "source": [
    "grid_knn.fit(X_train, y_train)"
   ]
  },
  {
   "cell_type": "code",
   "execution_count": 81,
   "id": "0a72c1b7",
   "metadata": {},
   "outputs": [
    {
     "name": "stdout",
     "output_type": "stream",
     "text": [
      "{'n_neighbors': 13}\n"
     ]
    }
   ],
   "source": [
    "print(grid_knn.best_params_)"
   ]
  },
  {
   "cell_type": "code",
   "execution_count": 82,
   "id": "6ffbeda5",
   "metadata": {},
   "outputs": [],
   "source": [
    "knn= KNeighborsClassifier(n_neighbors=13)"
   ]
  },
  {
   "cell_type": "code",
   "execution_count": 83,
   "id": "84a785cf",
   "metadata": {},
   "outputs": [
    {
     "data": {
      "text/plain": [
       "KNeighborsClassifier(n_neighbors=13)"
      ]
     },
     "execution_count": 83,
     "metadata": {},
     "output_type": "execute_result"
    }
   ],
   "source": [
    "knn.fit(X_train,y_train)"
   ]
  },
  {
   "cell_type": "code",
   "execution_count": 84,
   "id": "45e46b5a",
   "metadata": {},
   "outputs": [],
   "source": [
    "y_pred_knn=knn.predict(X_test)"
   ]
  },
  {
   "cell_type": "markdown",
   "id": "0bf11b64",
   "metadata": {},
   "source": [
    "### <font color=red>E. RF(Random Forest)</font>"
   ]
  },
  {
   "cell_type": "code",
   "execution_count": 85,
   "id": "37a04ace",
   "metadata": {},
   "outputs": [],
   "source": [
    "param_rf = {\n",
    "    'n_estimators': [100, 200, 300],\n",
    "    'max_depth': [None, 5, 10],\n",
    "    'min_samples_split': [2, 5, 10],\n",
    "    'min_samples_leaf': [1, 2, 4],\n",
    "}\n"
   ]
  },
  {
   "cell_type": "code",
   "execution_count": 86,
   "id": "64cb5f83",
   "metadata": {},
   "outputs": [],
   "source": [
    "rf = RandomForestClassifier(random_state=42)\n",
    "grid_ref = GridSearchCV(rf, param_rf, cv=5, scoring='accuracy')"
   ]
  },
  {
   "cell_type": "code",
   "execution_count": 87,
   "id": "514f834e",
   "metadata": {},
   "outputs": [
    {
     "name": "stdout",
     "output_type": "stream",
     "text": [
      "Best parameters:  {'max_depth': 10, 'min_samples_leaf': 1, 'min_samples_split': 5, 'n_estimators': 300}\n",
      "Best accuracy score:  0.8547169811320755\n"
     ]
    }
   ],
   "source": [
    "\n",
    "grid_ref.fit(X_train, y_train)\n",
    "print(\"Best parameters: \", grid_ref.best_params_)\n",
    "print(\"Best accuracy score: \", grid_ref.best_score_)\n",
    "best_rf = grid_ref.best_estimator_\n",
    "y_pred_rf = best_rf.predict(X_test)"
   ]
  },
  {
   "cell_type": "code",
   "execution_count": 88,
   "id": "ac101784",
   "metadata": {},
   "outputs": [],
   "source": [
    "# RF with best params\n",
    "rfc= RandomForestClassifier(n_estimators=300, max_depth=10, min_samples_split=5,min_samples_leaf=1, random_state=42)"
   ]
  },
  {
   "cell_type": "code",
   "execution_count": 89,
   "id": "71250887",
   "metadata": {},
   "outputs": [
    {
     "data": {
      "text/plain": [
       "RandomForestClassifier(max_depth=10, min_samples_split=5, n_estimators=300,\n",
       "                       random_state=42)"
      ]
     },
     "execution_count": 89,
     "metadata": {},
     "output_type": "execute_result"
    }
   ],
   "source": [
    "rfc.fit(X_train,y_train)"
   ]
  },
  {
   "cell_type": "code",
   "execution_count": 90,
   "id": "f1bd95ab",
   "metadata": {},
   "outputs": [],
   "source": [
    "y_pred_rfc= rfc.predict(X_test)"
   ]
  },
  {
   "cell_type": "code",
   "execution_count": 91,
   "id": "5b108147",
   "metadata": {},
   "outputs": [],
   "source": [
    "acc_sc=accuracy_score(y_test, y_pred_rfc)\n"
   ]
  },
  {
   "cell_type": "markdown",
   "id": "2f526184",
   "metadata": {},
   "source": [
    "### <font color=red>G. XGBoost</font>"
   ]
  },
  {
   "cell_type": "code",
   "execution_count": 92,
   "id": "8b809140",
   "metadata": {},
   "outputs": [],
   "source": [
    "import xgboost as xgb\n",
    "from xgboost import XGBClassifier"
   ]
  },
  {
   "cell_type": "code",
   "execution_count": 93,
   "id": "09ab00be",
   "metadata": {},
   "outputs": [],
   "source": [
    "xgb = XGBClassifier()"
   ]
  },
  {
   "cell_type": "code",
   "execution_count": 94,
   "id": "94b677d9",
   "metadata": {},
   "outputs": [],
   "source": [
    "from sklearn.pipeline import Pipeline"
   ]
  },
  {
   "cell_type": "code",
   "execution_count": 95,
   "id": "13ca3fdd",
   "metadata": {},
   "outputs": [],
   "source": [
    "pipeline = Pipeline([\n",
    "    ('scaler', StandardScaler()),\n",
    "    ('xgb', XGBClassifier())\n",
    "])"
   ]
  },
  {
   "cell_type": "code",
   "execution_count": 96,
   "id": "82df9616",
   "metadata": {},
   "outputs": [],
   "source": [
    "param_xgb = {\n",
    "    'xgb__n_estimators': [50, 100, 200],\n",
    "    'xgb__learning_rate': [0.01, 0.1, 0.5],\n",
    "    'xgb__max_depth': [3, 5, 7]\n",
    "}\n"
   ]
  },
  {
   "cell_type": "code",
   "execution_count": 97,
   "id": "d05cdde6",
   "metadata": {},
   "outputs": [
    {
     "data": {
      "text/plain": [
       "GridSearchCV(cv=5,\n",
       "             estimator=Pipeline(steps=[('scaler', StandardScaler()),\n",
       "                                       ('xgb',\n",
       "                                        XGBClassifier(base_score=None,\n",
       "                                                      booster=None,\n",
       "                                                      callbacks=None,\n",
       "                                                      colsample_bylevel=None,\n",
       "                                                      colsample_bynode=None,\n",
       "                                                      colsample_bytree=None,\n",
       "                                                      early_stopping_rounds=None,\n",
       "                                                      enable_categorical=False,\n",
       "                                                      eval_metric=None,\n",
       "                                                      feature_types=None,\n",
       "                                                      gamma=None, gpu_id=None,\n",
       "                                                      grow_policy=None,\n",
       "                                                      importance_type=No...\n",
       "                                                      max_cat_threshold=None,\n",
       "                                                      max_cat_to_onehot=None,\n",
       "                                                      max_delta_step=None,\n",
       "                                                      max_depth=None,\n",
       "                                                      max_leaves=None,\n",
       "                                                      min_child_weight=None,\n",
       "                                                      missing=nan,\n",
       "                                                      monotone_constraints=None,\n",
       "                                                      n_estimators=100,\n",
       "                                                      n_jobs=None,\n",
       "                                                      num_parallel_tree=None,\n",
       "                                                      predictor=None,\n",
       "                                                      random_state=None, ...))]),\n",
       "             param_grid={'xgb__learning_rate': [0.01, 0.1, 0.5],\n",
       "                         'xgb__max_depth': [3, 5, 7],\n",
       "                         'xgb__n_estimators': [50, 100, 200]})"
      ]
     },
     "execution_count": 97,
     "metadata": {},
     "output_type": "execute_result"
    }
   ],
   "source": [
    "grid_search = GridSearchCV(pipeline, param_xgb, cv=5)\n",
    "grid_search.fit(X_train, y_train)"
   ]
  },
  {
   "cell_type": "code",
   "execution_count": 98,
   "id": "5b893b42",
   "metadata": {},
   "outputs": [
    {
     "data": {
      "text/plain": [
       "XGBClassifier(base_score=None, booster=None, callbacks=None,\n",
       "              colsample_bylevel=None, colsample_bynode=None,\n",
       "              colsample_bytree=None, early_stopping_rounds=None,\n",
       "              enable_categorical=False, eval_metric=None, feature_types=None,\n",
       "              gamma=None, gpu_id=None, grow_policy=None, importance_type=None,\n",
       "              interaction_constraints=None, learning_rate=0.1, max_bin=None,\n",
       "              max_cat_threshold=None, max_cat_to_onehot=None,\n",
       "              max_delta_step=None, max_depth=3, max_leaves=None,\n",
       "              min_child_weight=None, missing=nan, monotone_constraints=None,\n",
       "              n_estimators=50, n_jobs=None, num_parallel_tree=None,\n",
       "              predictor=None, random_state=None, ...)"
      ]
     },
     "execution_count": 98,
     "metadata": {},
     "output_type": "execute_result"
    }
   ],
   "source": [
    "xgb = XGBClassifier(n_estimators=grid_search.best_params_['xgb__n_estimators'],\n",
    "                    learning_rate=grid_search.best_params_['xgb__learning_rate'],\n",
    "                    max_depth=grid_search.best_params_['xgb__max_depth'])\n",
    "xgb.fit(X_train, y_train)"
   ]
  },
  {
   "cell_type": "code",
   "execution_count": 99,
   "id": "c099a039",
   "metadata": {},
   "outputs": [
    {
     "name": "stdout",
     "output_type": "stream",
     "text": [
      "Best hyperparameters: {'xgb__learning_rate': 0.1, 'xgb__max_depth': 3, 'xgb__n_estimators': 50}\n"
     ]
    }
   ],
   "source": [
    "print('Best hyperparameters:', grid_search.best_params_)"
   ]
  },
  {
   "cell_type": "code",
   "execution_count": 100,
   "id": "cd46046f",
   "metadata": {},
   "outputs": [],
   "source": [
    "# xgb with best params\n",
    "xgb = XGBClassifier(n_estimators=50,\n",
    "                    learning_rate=0.1,\n",
    "                    max_depth=3)"
   ]
  },
  {
   "cell_type": "code",
   "execution_count": 101,
   "id": "c8fd921a",
   "metadata": {},
   "outputs": [
    {
     "data": {
      "text/plain": [
       "XGBClassifier(base_score=None, booster=None, callbacks=None,\n",
       "              colsample_bylevel=None, colsample_bynode=None,\n",
       "              colsample_bytree=None, early_stopping_rounds=None,\n",
       "              enable_categorical=False, eval_metric=None, feature_types=None,\n",
       "              gamma=None, gpu_id=None, grow_policy=None, importance_type=None,\n",
       "              interaction_constraints=None, learning_rate=0.1, max_bin=None,\n",
       "              max_cat_threshold=None, max_cat_to_onehot=None,\n",
       "              max_delta_step=None, max_depth=3, max_leaves=None,\n",
       "              min_child_weight=None, missing=nan, monotone_constraints=None,\n",
       "              n_estimators=50, n_jobs=None, num_parallel_tree=None,\n",
       "              predictor=None, random_state=None, ...)"
      ]
     },
     "execution_count": 101,
     "metadata": {},
     "output_type": "execute_result"
    }
   ],
   "source": [
    "xgb.fit(X_train, y_train)"
   ]
  },
  {
   "cell_type": "code",
   "execution_count": 102,
   "id": "f343535b",
   "metadata": {},
   "outputs": [],
   "source": [
    "y_pred_xgb=xgb.predict(X_test)"
   ]
  },
  {
   "cell_type": "code",
   "execution_count": 103,
   "id": "77435f6c",
   "metadata": {},
   "outputs": [],
   "source": [
    "acc_sc = accuracy_score(y_test, y_pred_xgb)"
   ]
  },
  {
   "cell_type": "markdown",
   "id": "d02ec2de",
   "metadata": {},
   "source": [
    "### <font color=red>G. Gaussian Neive Bayes</font>"
   ]
  },
  {
   "cell_type": "code",
   "execution_count": 104,
   "id": "91892cd2",
   "metadata": {},
   "outputs": [],
   "source": [
    "from sklearn.naive_bayes import GaussianNB"
   ]
  },
  {
   "cell_type": "code",
   "execution_count": 105,
   "id": "46718694",
   "metadata": {},
   "outputs": [],
   "source": [
    "param_nb = {\n",
    "    'var_smoothing': [1e-9, 1e-8, 1e-7]\n",
    "}"
   ]
  },
  {
   "cell_type": "code",
   "execution_count": 106,
   "id": "d9872017",
   "metadata": {},
   "outputs": [],
   "source": [
    "nb = GaussianNB()"
   ]
  },
  {
   "cell_type": "code",
   "execution_count": 107,
   "id": "feec712b",
   "metadata": {},
   "outputs": [],
   "source": [
    "grid_nb = GridSearchCV(estimator=nb, param_grid=param_nb, cv=5)"
   ]
  },
  {
   "cell_type": "code",
   "execution_count": 108,
   "id": "171c6ca8",
   "metadata": {},
   "outputs": [
    {
     "data": {
      "text/plain": [
       "GridSearchCV(cv=5, estimator=GaussianNB(),\n",
       "             param_grid={'var_smoothing': [1e-09, 1e-08, 1e-07]})"
      ]
     },
     "execution_count": 108,
     "metadata": {},
     "output_type": "execute_result"
    }
   ],
   "source": [
    "grid_nb.fit(X_train, y_train)"
   ]
  },
  {
   "cell_type": "code",
   "execution_count": 109,
   "id": "0b7cf4c0",
   "metadata": {},
   "outputs": [
    {
     "name": "stdout",
     "output_type": "stream",
     "text": [
      "{'var_smoothing': 1e-09}\n"
     ]
    }
   ],
   "source": [
    "print(grid_nb.best_params_)"
   ]
  },
  {
   "cell_type": "code",
   "execution_count": 110,
   "id": "f7ab202d",
   "metadata": {},
   "outputs": [],
   "source": [
    "# Gausian nb with best params\n",
    "nb = GaussianNB(var_smoothing=1e-09)"
   ]
  },
  {
   "cell_type": "code",
   "execution_count": 111,
   "id": "5c30327f",
   "metadata": {},
   "outputs": [
    {
     "data": {
      "text/plain": [
       "GaussianNB()"
      ]
     },
     "execution_count": 111,
     "metadata": {},
     "output_type": "execute_result"
    }
   ],
   "source": [
    "nb.fit(X_train, y_train)"
   ]
  },
  {
   "cell_type": "code",
   "execution_count": 112,
   "id": "2a4173e3",
   "metadata": {},
   "outputs": [],
   "source": [
    "y_pred_nb=nb.predict(X_test)"
   ]
  },
  {
   "cell_type": "code",
   "execution_count": 113,
   "id": "acfa4132",
   "metadata": {},
   "outputs": [],
   "source": [
    "acc_sc = accuracy_score(y_test, y_pred_nb)"
   ]
  },
  {
   "cell_type": "markdown",
   "id": "76fcfd8c",
   "metadata": {},
   "source": [
    "----"
   ]
  },
  {
   "cell_type": "markdown",
   "id": "79d817ef",
   "metadata": {},
   "source": [
    "## <font color=blue>Model Comparison </font> "
   ]
  },
  {
   "cell_type": "code",
   "execution_count": 114,
   "id": "8b865c24",
   "metadata": {},
   "outputs": [],
   "source": [
    "model_compare= pd.DataFrame({'models':[\"LogReg\",\"SVC\", \"KNN\", \"RFC\",\"NB\",\"XGB\"],\n",
    "                           'accuracy':[accuracy_score(y_test, y_pred_log)*100,\n",
    "                                      accuracy_score(y_test, y_pred_svc)*100,\n",
    "                                      accuracy_score(y_test, y_pred_knn)*100,                                    \n",
    "                                      accuracy_score(y_test, y_pred_rfc)*100,\n",
    "                                      accuracy_score(y_test, y_pred_nb)*100,\n",
    "                                      accuracy_score(y_test, y_pred_xgb)*100]})"
   ]
  },
  {
   "cell_type": "code",
   "execution_count": 115,
   "id": "c4d8a8a9",
   "metadata": {},
   "outputs": [
    {
     "data": {
      "text/html": [
       "<div>\n",
       "<style scoped>\n",
       "    .dataframe tbody tr th:only-of-type {\n",
       "        vertical-align: middle;\n",
       "    }\n",
       "\n",
       "    .dataframe tbody tr th {\n",
       "        vertical-align: top;\n",
       "    }\n",
       "\n",
       "    .dataframe thead th {\n",
       "        text-align: right;\n",
       "    }\n",
       "</style>\n",
       "<table border=\"1\" class=\"dataframe\">\n",
       "  <thead>\n",
       "    <tr style=\"text-align: right;\">\n",
       "      <th></th>\n",
       "      <th>models</th>\n",
       "      <th>accuracy</th>\n",
       "    </tr>\n",
       "  </thead>\n",
       "  <tbody>\n",
       "    <tr>\n",
       "      <th>0</th>\n",
       "      <td>LogReg</td>\n",
       "      <td>87.878788</td>\n",
       "    </tr>\n",
       "    <tr>\n",
       "      <th>1</th>\n",
       "      <td>SVC</td>\n",
       "      <td>87.878788</td>\n",
       "    </tr>\n",
       "    <tr>\n",
       "      <th>2</th>\n",
       "      <td>KNN</td>\n",
       "      <td>86.363636</td>\n",
       "    </tr>\n",
       "    <tr>\n",
       "      <th>3</th>\n",
       "      <td>RFC</td>\n",
       "      <td>84.848485</td>\n",
       "    </tr>\n",
       "    <tr>\n",
       "      <th>4</th>\n",
       "      <td>NB</td>\n",
       "      <td>80.303030</td>\n",
       "    </tr>\n",
       "    <tr>\n",
       "      <th>5</th>\n",
       "      <td>XGB</td>\n",
       "      <td>83.333333</td>\n",
       "    </tr>\n",
       "  </tbody>\n",
       "</table>\n",
       "</div>"
      ],
      "text/plain": [
       "   models   accuracy\n",
       "0  LogReg  87.878788\n",
       "1     SVC  87.878788\n",
       "2     KNN  86.363636\n",
       "3     RFC  84.848485\n",
       "4      NB  80.303030\n",
       "5     XGB  83.333333"
      ]
     },
     "execution_count": 115,
     "metadata": {},
     "output_type": "execute_result"
    }
   ],
   "source": [
    "model_compare"
   ]
  },
  {
   "cell_type": "code",
   "execution_count": 116,
   "id": "40e539c0",
   "metadata": {},
   "outputs": [
    {
     "data": {
      "text/plain": [
       "<AxesSubplot:xlabel='models', ylabel='accuracy'>"
      ]
     },
     "execution_count": 116,
     "metadata": {},
     "output_type": "execute_result"
    },
    {
     "data": {
      "image/png": "[encoded data removed]",
      "text/plain": [
       "<Figure size 800x500 with 1 Axes>"
      ]
     },
     "metadata": {},
     "output_type": "display_data"
    }
   ],
   "source": [
    "sns.set(rc={\"figure.figsize\":(8, 5)}) \n",
    "sns.barplot(x=model_compare['models'], y=model_compare['accuracy'])"
   ]
  },
  {
   "cell_type": "markdown",
   "id": "c10eb81e",
   "metadata": {},
   "source": [
    "<div class=\"alert alert-block alert-info\">\n",
    "<b>INSIGHTS </b>&#9658\n",
    "SVC and LogReg performs best. Let's use Receiver Operating Characteristic (ROC) curve to compare and choose between theses classifiers.\n",
    "</div>"
   ]
  },
  {
   "cell_type": "code",
   "execution_count": 117,
   "id": "1380f70d",
   "metadata": {},
   "outputs": [],
   "source": [
    "from sklearn.metrics import roc_curve, roc_auc_score"
   ]
  },
  {
   "cell_type": "code",
   "execution_count": 118,
   "id": "f7e804d0",
   "metadata": {},
   "outputs": [],
   "source": [
    "# svc with proba\n",
    "svc=SVC(kernel='poly', probability=True)"
   ]
  },
  {
   "cell_type": "code",
   "execution_count": 119,
   "id": "9d16ba72",
   "metadata": {},
   "outputs": [
    {
     "data": {
      "text/plain": [
       "SVC(kernel='poly', probability=True)"
      ]
     },
     "execution_count": 119,
     "metadata": {},
     "output_type": "execute_result"
    }
   ],
   "source": [
    "svc.fit(X_train,y_train)"
   ]
  },
  {
   "cell_type": "code",
   "execution_count": 120,
   "id": "dfacbbff",
   "metadata": {},
   "outputs": [],
   "source": [
    "y_pred_svc=svc.predict(X_test)"
   ]
  },
  {
   "cell_type": "code",
   "execution_count": 121,
   "id": "6ed9dfb3",
   "metadata": {},
   "outputs": [],
   "source": [
    "# log to compete with svc\n",
    "log=LogisticRegression(C= 10, penalty= 'l1', solver= 'saga')"
   ]
  },
  {
   "cell_type": "code",
   "execution_count": 122,
   "id": "cd837112",
   "metadata": {},
   "outputs": [
    {
     "data": {
      "text/plain": [
       "LogisticRegression(C=10, penalty='l1', solver='saga')"
      ]
     },
     "execution_count": 122,
     "metadata": {},
     "output_type": "execute_result"
    }
   ],
   "source": [
    "log.fit(X_train,y_train)"
   ]
  },
  {
   "cell_type": "code",
   "execution_count": 123,
   "id": "731987f8",
   "metadata": {},
   "outputs": [],
   "source": [
    "y_pred_log=log.predict(X_test)"
   ]
  },
  {
   "cell_type": "code",
   "execution_count": 124,
   "id": "09d8ac5e",
   "metadata": {},
   "outputs": [],
   "source": [
    "svc_probs = svc.predict_proba(X_test)[:, 1]\n",
    "log_probs = log.predict_proba(X_test)[:, 1]"
   ]
  },
  {
   "cell_type": "code",
   "execution_count": 125,
   "id": "bff86fd4",
   "metadata": {},
   "outputs": [],
   "source": [
    "svc_fpr, svc_tpr, svc_thresholds = roc_curve(y_test, svc_probs)\n",
    "log_fpr, log_tpr, log_thresholds = roc_curve(y_test, log_probs)"
   ]
  },
  {
   "cell_type": "code",
   "execution_count": 126,
   "id": "4477cf19",
   "metadata": {},
   "outputs": [],
   "source": [
    "svc_auc = roc_auc_score(y_test, svc_probs)\n",
    "log_auc = roc_auc_score(y_test, log_probs)"
   ]
  },
  {
   "cell_type": "code",
   "execution_count": 127,
   "id": "03ccfda3",
   "metadata": {},
   "outputs": [
    {
     "data": {
      "image/png": "[encoded data removed]",
      "text/plain": [
       "<Figure size 800x500 with 1 Axes>"
      ]
     },
     "metadata": {},
     "output_type": "display_data"
    }
   ],
   "source": [
    "plt.plot(svc_fpr, svc_tpr, label=f'SVC (AUC = {svc_auc:.2f})')\n",
    "plt.plot(log_fpr, log_tpr, label=f'LOG (AUC = {log_auc:.2f})')\n",
    "plt.plot([0, 1], [0, 1], 'k--')\n",
    "plt.xlabel('False Positive Rate')\n",
    "plt.ylabel('True Positive Rate')\n",
    "plt.title('ROC Curve')\n",
    "plt.legend()\n",
    "plt.show()"
   ]
  },
  {
   "cell_type": "markdown",
   "id": "6835eabf",
   "metadata": {},
   "source": [
    "<div class=\"alert alert-block alert-info\">\n",
    "<b>INSIGHTS </b>&#9658\n",
    "SVC model is the one that achieves the highest Area Under the Curve (AUC) score\n",
    "</div>"
   ]
  },
  {
   "cell_type": "markdown",
   "id": "146c352a",
   "metadata": {},
   "source": [
    "## <font color=blue>Model Building & Fine-tuning</font> "
   ]
  },
  {
   "cell_type": "code",
   "execution_count": 145,
   "id": "b8f9b73b",
   "metadata": {},
   "outputs": [],
   "source": [
    "model_svc=SVC(C=10, kernel='poly', gamma='auto', random_state=42)"
   ]
  },
  {
   "cell_type": "code",
   "execution_count": 146,
   "id": "5d67f21f",
   "metadata": {},
   "outputs": [
    {
     "data": {
      "text/plain": [
       "SVC(C=10, gamma='auto', kernel='poly', random_state=42)"
      ]
     },
     "execution_count": 146,
     "metadata": {},
     "output_type": "execute_result"
    }
   ],
   "source": [
    "model_svc.fit(X,y)"
   ]
  },
  {
   "cell_type": "code",
   "execution_count": 147,
   "id": "56a44cec",
   "metadata": {},
   "outputs": [],
   "source": [
    "y_pred_model_svc=model_svc.predict(X)"
   ]
  },
  {
   "cell_type": "code",
   "execution_count": 148,
   "id": "041f1daa",
   "metadata": {},
   "outputs": [
    {
     "name": "stdout",
     "output_type": "stream",
     "text": [
      "0.8642384105960265\n"
     ]
    }
   ],
   "source": [
    "acc_score_svc=accuracy_score(y, y_pred_model_svc)\n",
    "print(acc_score_svc)"
   ]
  },
  {
   "cell_type": "markdown",
   "id": "cce28a48",
   "metadata": {},
   "source": [
    "## <font color=blue>Confusion Matrix </font> "
   ]
  },
  {
   "cell_type": "code",
   "execution_count": 152,
   "id": "e4c5bba2",
   "metadata": {},
   "outputs": [
    {
     "data": {
      "image/png": "[encoded data removed]",
      "text/plain": [
       "<Figure size 800x500 with 2 Axes>"
      ]
     },
     "metadata": {},
     "output_type": "display_data"
    }
   ],
   "source": [
    "cm = confusion_matrix(y, y_pred_model_svc)\n",
    "\n",
    "# Visualize the confusion matrix\n",
    "sns.heatmap(cm, annot=True, cmap=\"crest\", fmt=\"d\")\n",
    "plt.xlabel(\"Predicted\")\n",
    "plt.ylabel(\"Actual\")\n",
    "plt.title(\"Confusion Matrix\")\n",
    "plt.show()"
   ]
  },
  {
   "cell_type": "markdown",
   "id": "a0e4ebf6",
   "metadata": {},
   "source": [
    "## <font color=blue>Save The Model </font> "
   ]
  },
  {
   "cell_type": "code",
   "execution_count": 155,
   "id": "bd2598af",
   "metadata": {},
   "outputs": [],
   "source": [
    "import joblib\n",
    "import sklearn\n",
    "from joblib import dump, load"
   ]
  },
  {
   "cell_type": "code",
   "execution_count": 156,
   "id": "f598d647",
   "metadata": {},
   "outputs": [
    {
     "data": {
      "text/plain": [
       "'1.0.2'"
      ]
     },
     "execution_count": 156,
     "metadata": {},
     "output_type": "execute_result"
    }
   ],
   "source": [
    "scikit_ver=sklearn.__version__\n",
    "scikit_ver"
   ]
  },
  {
   "cell_type": "code",
   "execution_count": 157,
   "id": "a6e6c4d3",
   "metadata": {},
   "outputs": [
    {
     "data": {
      "text/plain": [
       "['ShumetieTefera_HeartDisease_Capstone.pkl']"
      ]
     },
     "execution_count": 157,
     "metadata": {},
     "output_type": "execute_result"
    }
   ],
   "source": [
    "joblib.dump(model_svc, 'ShumetieTefera_HeartDisease_Capstone.pkl'.format(version=scikit_ver))"
   ]
  },
  {
   "cell_type": "code",
   "execution_count": null,
   "id": "d09da5c8",
   "metadata": {},
   "outputs": [],
   "source": []
  }
 ],
 "metadata": {
  "kernelspec": {
   "display_name": "Python 3 (ipykernel)",
   "language": "python",
   "name": "python3"
  },
  "language_info": {
   "codemirror_mode": {
    "name": "ipython",
    "version": 3
   },
   "file_extension": ".py",
   "mimetype": "text/x-python",
   "name": "python",
   "nbconvert_exporter": "python",
   "pygments_lexer": "ipython3",
   "version": "3.9.13"
  }
 },
 "nbformat": 4,
 "nbformat_minor": 5
}
